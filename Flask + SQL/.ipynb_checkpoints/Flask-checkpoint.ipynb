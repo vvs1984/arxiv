{
 "cells": [
  {
   "cell_type": "code",
   "execution_count": 8,
   "metadata": {},
   "outputs": [],
   "source": [
    "from flask import Flask, jsonify, abort, make_response, render_template, request\n",
    "import psycopg2\n",
    "from configparser import ConfigParser"
   ]
  },
  {
   "cell_type": "code",
   "execution_count": 24,
   "metadata": {},
   "outputs": [],
   "source": [
    "config_object = ConfigParser()\n",
    "config_object.read(\"config.ini\")\n",
    "DB_CONFIG = config_object[\"DB_CONFIG\"]\n",
    "SERVERCONFIG = config_object[\"SERVERCONFIG\"]\n"
   ]
  },
  {
   "cell_type": "code",
   "execution_count": 60,
   "metadata": {},
   "outputs": [
    {
     "data": {
      "text/plain": [
       "'\"imdb\"'"
      ]
     },
     "execution_count": 60,
     "metadata": {},
     "output_type": "execute_result"
    }
   ],
   "source": [
    "SERVERCONFIG[\"database\"]\n"
   ]
  },
  {
   "cell_type": "code",
   "execution_count": null,
   "metadata": {},
   "outputs": [],
   "source": []
  },
  {
   "cell_type": "code",
   "execution_count": 61,
   "metadata": {},
   "outputs": [],
   "source": [
    "def filter_muvie_id(val,\n",
    "                    filter_name = 'tconst',\n",
    "                    limit_str = 10,\n",
    "                    order_by = 'tconst',\n",
    "                    user = \"docker\",\n",
    "                    password = \"docker\",\n",
    "                    host = \"138.197.176.123\",\n",
    "                    port = \"5430\",\n",
    "                    database = \"imdb\"\n",
    "                   ):\n",
    "\n",
    "    \"\"\"\n",
    "    проивзодит поиск и возвращает идентификаторы фильмов, отвечающий уловиям посика в \n",
    "    баде зданных imdb.\n",
    "    параметры:\n",
    "            val - значение переменной для поиска по колонке column, \n",
    "            filter_name - название колонки в таблице basics, по которой производится \n",
    "                        фильтрация, значение по умолчанию 'tconst', возможные значения:\n",
    "                        tconst, titletype, primarytitle, originaltitle, isadult, startyear, \n",
    "                        endyear, runtimeminutes, genres\n",
    "            limit_str - ограничение количества выдачи. по умолчанию -  10,\n",
    "            order_by - название колонки в таблице basics, по которой производится \n",
    "                        сортировка, значение по умолчанию   'tconst'\n",
    "            user - учётная запись для подключения БД, значение по умолчанию\"docker\",\n",
    "            password - пароль учетной записи, значение по умолчанию \"docker\",\n",
    "            host = ip адрес сервера, на котором расположена БД, \n",
    "                    значение по умолчанию \"138.197.176.123\",\n",
    "            port - порт подключения к БД, значение по умолчанию \"5430\",\n",
    "            database - название БД, значение по умолчанию \"imdb\"\n",
    "    Возвращает  json форматированную строку вида {\"movies\": [\"tt0000001\", \"tt0453643\"]}\n",
    "    в случае успешного поиска.\n",
    "    В случае ошибки или отсутствия идентификаторов фильмов, удовлетворяющих \n",
    "    условиям - возвращает  None\n",
    "    \"\"\"\n",
    "    print(val,filter_name, limit_str , order_by ,user,\n",
    "          password, host, port,database )\n",
    "    try:\n",
    "        print('1')\n",
    "        connection = psycopg2.connect(user = user,\n",
    "                                      password = password ,\n",
    "                                      host = host,\n",
    "                                      port = port,\n",
    "                                      database = database)\n",
    "        print('1')\n",
    "        cursor = connection.cursor()\n",
    "        print('1')\n",
    "\n",
    "        filter_str = f\" where b.{filter_name} = '{val}'\"\n",
    "        order_str = f\" order by {order_by}\"\n",
    "        limit = f\" limit {limit_str}\"\n",
    "        query = (\"select b.tconst from imdb.basics b \" \n",
    "                 + filter_str + order_str + limit + \";\")\n",
    "        print(query)\n",
    "    \n",
    "        cursor.execute(query)\n",
    "        colnames = [desc[0] for desc in cursor.description]\n",
    "        rows = [row[0] for row in cursor.fetchall()]\n",
    "        if len(rows) == 0 :\n",
    "            if(connection):\n",
    "                cursor.close()\n",
    "                connection.close()\n",
    "            return make_response('', 404)\n",
    "        else:\n",
    "            if(connection):\n",
    "                cursor.close()\n",
    "                connection.close()\n",
    "            return make_response(jsonify(movies=rows\n",
    "                                        ), 200)\n",
    "        \n",
    "\n",
    "    except (Exception, psycopg2.Error) as error :\n",
    "        return make_response('', 404)\n"
   ]
  },
  {
   "cell_type": "code",
   "execution_count": 66,
   "metadata": {},
   "outputs": [],
   "source": [
    "def top_k(id_list,\n",
    "          full_id_list,\n",
    "          top_n,\n",
    "          user = \"docker\",\n",
    "          password = \"docker\",\n",
    "          host = \"138.197.176.123\",\n",
    "          port = \"5430\",\n",
    "          database = \"imdb\"\n",
    "         ):\n",
    "    \"\"\"\n",
    "    проивзодит  наиболее подходящих фильмов для пользовалтеля, возвращает top_n \n",
    "    идентификаторов  фильмов, отвечающий уловиям посика в базе зданных imdb.\n",
    "    Для идентификаторов фильмов id_list находятся значения из средних рейтинов из таблицы\n",
    "    ratings. По максимальному значению из этих рейтингов проиводится фильтрация в таблице \n",
    "    ratings (с округлением до второго знака). Из найденного списка удаляются записи с идентификатороми из\n",
    "    списка full_id_list после чего произодится сортировка по количеству голосов. \n",
    "    Из отсортированного списка  оставляются top_n значений. \n",
    "    параметры:\n",
    "            id_list - список наиболее погравившихся фильмов из запроса (с одиноковым максимальным\n",
    "            коеффикиентом),\n",
    "            full_id_list - полный список идентификаторов фильмов из запроса,\n",
    "            user - учётная запись для подключения БД, значение по умолчанию\"docker\",\n",
    "            password - пароль учетной записи, значение по умолчанию \"docker\",\n",
    "            host = ip адрес сервера, на котором расположена БД, \n",
    "                    значение по умолчанию \"138.197.176.123\",\n",
    "            port - порт подключения к БД, значение по умолчанию \"5430\",\n",
    "            database - название БД, значение по умолчанию \"imdb\"\n",
    "    Возвращает make_response с json форматированной строкой вида \n",
    "    {\"ratings\": [\"tt0000001\", \"tt0453643\"]} и http идентификатором 200 \n",
    "    в случае успешного поиска.\n",
    "    В случае ошибки или отсутствия идентификаторов фильмов, удовлетворяющих \n",
    "    условиям - возвращает  пустое значение и http идентификатор 404\n",
    "    \"\"\"\n",
    "    str_ids = \"' , '\".join(id_list)\n",
    "    str_ids = \"'\" + str_ids + \"'\"\n",
    "    str_full_ids = \"' , '\".join(full_id_list)\n",
    "    str_full_ids = \"'\" + str_full_ids + \"'\"\n",
    "    print(str_full_ids)\n",
    "\n",
    "    try:\n",
    "        connection = psycopg2.connect(user = user,\n",
    "                                      password = password ,\n",
    "                                      host = host,\n",
    "                                      port = port,\n",
    "                                      database = database)\n",
    "        cursor = connection.cursor()\n",
    "\n",
    "        query = f\"SELECT r.tconst \\\n",
    "                FROM imdb.ratings r \\\n",
    "                WHERE ROUND(CAST(r.averagerating AS numeric), 2) IN ( \\\n",
    "                SELECT ROUND(CAST(MAX(rs.averagerating) AS numeric), 2) AS max_rating \\\n",
    "                FROM imdb.ratings rs WHERE  rs.tconst IN ({str_ids}) \\\n",
    "                ) AND r.tconst  NOT IN ({str_full_ids}) \\\n",
    "                ORDER BY r.numvotes DESC \\\n",
    "                LIMIT {top_n};\"\n",
    "\n",
    "    \n",
    "        cursor.execute(query)\n",
    "\n",
    "        rows = [row[0] for row in cursor.fetchall()]\n",
    "\n",
    "        if len(rows) == 0 :\n",
    "            if(connection):\n",
    "                cursor.close()\n",
    "                connection.close()\n",
    "            return make_response('', 404)\n",
    "        else:\n",
    "            if(connection):\n",
    "                cursor.close()\n",
    "                connection.close()\n",
    "            return make_response(jsonify(ratings=rows), 200)\n",
    "        \n",
    "\n",
    "    except (Exception, psycopg2.Error) as error :\n",
    "        return make_response('', 404)\n"
   ]
  },
  {
   "cell_type": "code",
   "execution_count": 67,
   "metadata": {},
   "outputs": [],
   "source": [
    "def db_request(req, column):\n",
    "    \n",
    "    req = req.split('&lim=')\n",
    "    if len(req) > 1:\n",
    "        len_lim = req[-1]\n",
    "    else:\n",
    "        len_lim = DB_CONFIG[\"limit_str\"]\n",
    "    print(req, len_lim, column)\n",
    "    return filter_muvie_id(val = req[0], \n",
    "                           filter_name  = column, \n",
    "                           limit_str = len_lim,\n",
    "                           order_by = DB_CONFIG[\"order_by\"],\n",
    "                           user = SERVERCONFIG[\"user\"],\n",
    "                           password = SERVERCONFIG[\"password\"],\n",
    "                           host = SERVERCONFIG[\"host\"],\n",
    "                           port = SERVERCONFIG[\"port\"],\n",
    "                           database = SERVERCONFIG[\"database\"]\n",
    "                          )"
   ]
  },
  {
   "cell_type": "code",
   "execution_count": 68,
   "metadata": {},
   "outputs": [],
   "source": [
    "app = Flask(__name__)\n",
    "\n",
    "# app name \n",
    "@app.errorhandler(404) \n",
    "  \n",
    "# inbuilt function which takes error as parameter \n",
    "def not_found(e): \n",
    "  \n",
    "# defining function \n",
    "  return render_template(\"404.html\") , 404\n",
    "\n",
    "\n",
    "\n",
    "@app.route('/suggest/<top_n>' ,methods = ['GET', 'POST'])\n",
    "def suggest(top_n=None):\n",
    "    req_json = request.get_json(force=True) \n",
    "    full_ids = list(req_json[\"likes\"].keys())\n",
    "    ids = [key for key, value in req_json[\"likes\"].items() if value == max(req_json[\"likes\"].values())]\n",
    "    return top_k(ids, full_ids , top_n)\n",
    "\n",
    "\n",
    "@app.route('/tconst/<req>',methods = ['GET'])\n",
    "def tconst(req=None):\n",
    "    return db_request(req, \"'tconst'\")\n",
    "# filter_muvie_id(val = req[0], limit_str = len_lim)\n",
    "\n",
    "\n",
    "@app.route('/titletype/<req>',methods = ['GET'])\n",
    "def titletype(req=None):\n",
    "    return db_request(req, \"'titletype'\")\n",
    "\n",
    "\n",
    "@app.route('/primarytitle/<req>',methods = ['GET'])\n",
    "def primarytitle(req=None):\n",
    "    return db_request(req, \"'primarytitle'\")\n",
    "\n",
    "@app.route('/originaltitle/<req>',methods = ['GET'])\n",
    "def originaltitle(req=None):\n",
    "    return db_request(req, \"'originaltitle'\")\n",
    "\n",
    "\n",
    "@app.route('/isadult/<req>',methods = ['GET'])\n",
    "def isadult(req=None):\n",
    "    return db_request(req, \"'isadult'\")\n",
    "\n",
    "\n",
    "@app.route('/startyear/<req>',methods = ['GET'])\n",
    "def startyear(req=None):\n",
    "    return db_request(req, \"'startyear'\")\n",
    "\n",
    "\n",
    "@app.route('/endyear/<req>')\n",
    "def endyear(req=None):\n",
    "    return db_request(req, \"'endyear'\")\n",
    "\n",
    "\n",
    "@app.route('/runtimeminutes/<req>',methods = ['GET'])\n",
    "def runtimeminutes(req=None):\n",
    "    return db_request(req, \"'runtimeminutes'\")\n",
    "\n",
    "\n",
    "@app.route('/genres/<req>' ,methods = ['GET'])\n",
    "def genres(req=None):\n",
    "    return db_request(req, \"'genres'\") \n"
   ]
  },
  {
   "cell_type": "code",
   "execution_count": 65,
   "metadata": {
    "scrolled": true
   },
   "outputs": [
    {
     "name": "stdout",
     "output_type": "stream",
     "text": [
      " * Serving Flask app \"__main__\" (lazy loading)\n",
      " * Environment: production\n",
      "\u001b[31m   WARNING: This is a development server. Do not use it in a production deployment.\u001b[0m\n",
      "\u001b[2m   Use a production WSGI server instead.\u001b[0m\n",
      " * Debug mode: off\n"
     ]
    },
    {
     "name": "stderr",
     "output_type": "stream",
     "text": [
      " * Running on http://127.0.0.1:5000/ (Press CTRL+C to quit)\n",
      "127.0.0.1 - - [30/Nov/2020 15:01:27] \"\u001b[33mGET /isadult/True&lim=100 HTTP/1.1\u001b[0m\" 404 -\n"
     ]
    },
    {
     "name": "stdout",
     "output_type": "stream",
     "text": [
      "['True', '100'] 100 'isadult'\n",
      "True 'isadult' 100 'tconst', \"docker\" \"docker\" \"138.197.176.123\" \"5430\" \"imdb\"\n"
     ]
    }
   ],
   "source": [
    "app.run()"
   ]
  },
  {
   "cell_type": "code",
   "execution_count": null,
   "metadata": {},
   "outputs": [],
   "source": []
  },
  {
   "cell_type": "code",
   "execution_count": null,
   "metadata": {},
   "outputs": [],
   "source": []
  },
  {
   "cell_type": "code",
   "execution_count": null,
   "metadata": {},
   "outputs": [],
   "source": []
  },
  {
   "cell_type": "code",
   "execution_count": null,
   "metadata": {},
   "outputs": [],
   "source": []
  },
  {
   "cell_type": "code",
   "execution_count": 21,
   "metadata": {},
   "outputs": [
    {
     "name": "stdout",
     "output_type": "stream",
     "text": [
      "limit_str is 10\n"
     ]
    }
   ],
   "source": [
    "\n",
    "\n",
    "#Read config.ini file\n",
    "config_object = ConfigParser()\n",
    "config_object.read(\"config.ini\")\n",
    "\n",
    "#Get the password\n",
    "DB_CONFIG = config_object[\"DB_CONFIG\"]\n",
    "print(\"limit_str is {}\".format(DB_CONFIG[\"limit_str\"]))"
   ]
  },
  {
   "cell_type": "code",
   "execution_count": 19,
   "metadata": {},
   "outputs": [
    {
     "data": {
      "text/plain": [
       "'tutswiki'"
      ]
     },
     "execution_count": 19,
     "metadata": {},
     "output_type": "execute_result"
    }
   ],
   "source": [
    "userinfo[\"password\"]"
   ]
  },
  {
   "cell_type": "code",
   "execution_count": null,
   "metadata": {},
   "outputs": [],
   "source": []
  }
 ],
 "metadata": {
  "kernelspec": {
   "display_name": "Python 3",
   "language": "python",
   "name": "python3"
  },
  "language_info": {
   "codemirror_mode": {
    "name": "ipython",
    "version": 3
   },
   "file_extension": ".py",
   "mimetype": "text/x-python",
   "name": "python",
   "nbconvert_exporter": "python",
   "pygments_lexer": "ipython3",
   "version": "3.7.3"
  }
 },
 "nbformat": 4,
 "nbformat_minor": 2
}
