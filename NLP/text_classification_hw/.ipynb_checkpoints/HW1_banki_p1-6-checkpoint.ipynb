{
 "cells": [
  {
   "cell_type": "code",
   "execution_count": 1,
   "metadata": {},
   "outputs": [],
   "source": [
    "import json\n",
    "\n",
    "import bz2\n",
    "import regex\n",
    "from tqdm import tqdm\n",
    "from scipy import sparse"
   ]
  },
  {
   "cell_type": "code",
   "execution_count": 2,
   "metadata": {},
   "outputs": [
    {
     "name": "stdout",
     "output_type": "stream",
     "text": [
      "Populating the interactive namespace from numpy and matplotlib\n"
     ]
    }
   ],
   "source": [
    "import pandas as pd\n",
    "import numpy as np\n",
    "import nltk\n",
    "import matplotlib.pyplot as plt\n",
    "import seaborn as sns\n",
    "from googletrans import Translator\n",
    "from scipy.spatial.distance import cosine\n",
    "from tqdm import tqdm\n",
    "import compress_fasttext\n",
    "import ast\n",
    "%matplotlib inline\n",
    "%pylab inline"
   ]
  },
  {
   "cell_type": "code",
   "execution_count": 3,
   "metadata": {},
   "outputs": [],
   "source": [
    "# ! pip install compress-fasttext[full]"
   ]
  },
  {
   "cell_type": "code",
   "execution_count": 3,
   "metadata": {},
   "outputs": [],
   "source": [
    "\n",
    "\n",
    "small_model = compress_fasttext.models.CompressedFastTextKeyedVectors.load(\n",
    "    '/home/vvs/Downloads/ML_P5_NLP/NLP-2/Gensim FastText compressed/ft_freqprune_400K_100K_pq_300.bin'\n",
    ")"
   ]
  },
  {
   "cell_type": "code",
   "execution_count": 4,
   "metadata": {
    "scrolled": true
   },
   "outputs": [
    {
     "name": "stderr",
     "output_type": "stream",
     "text": [
      "201030it [02:44, 1223.67it/s]\n"
     ]
    }
   ],
   "source": [
    "responses = []\n",
    "with bz2.BZ2File('banki_responses.json.bz2', 'r') as thefile:\n",
    "    for row in tqdm(thefile):\n",
    "        resp = json.loads(row)\n",
    "        if not resp['rating_not_checked'] and (len(resp['text'].split()) > 0):\n",
    "            responses.append(resp)"
   ]
  },
  {
   "cell_type": "markdown",
   "metadata": {},
   "source": [
    "#  Домашнее задание по NLP # 1 [100 баллов]\n"
   ]
  },
  {
   "cell_type": "markdown",
   "metadata": {},
   "source": [
    "## Часть 1. Анализ текстов [40/100]\n",
    "\n",
    "1. Посчитайте количество отзывов в разных городах и на разные банки\n",
    "2. Постройте гистограмы длин слов в символах и в словах\n",
    "3. Найдите 10 самых частых:\n",
    "    * слов\n",
    "    * слов без стоп-слов\n",
    "    * лемм \n",
    "* существительных\n",
    "4. Постройте кривые Ципфа и Хипса\n",
    "5. Ответьте на следующие вопросы:\n",
    "    * какое слово встречается чаще, \"сотрудник\" или \"клиент\"?\n",
    "    * сколько раз встречается слова \"мошенничество\" и \"доверие\"?\n",
    "6. В поле \"rating_grade\" записана оценка отзыва по шкале от 1 до 5. Используйте меру $tf-idf$, для того, чтобы найти ключевые слова и биграмы для положительных отзывов (с оценкой 5) и отрицательных отзывов (с оценкой 1)"
   ]
  },
  {
   "cell_type": "markdown",
   "metadata": {},
   "source": [
    "\n",
    "## 1. Посчитайте количество отзывов в разных городах и на разные банки\n"
   ]
  },
  {
   "cell_type": "markdown",
   "metadata": {},
   "source": [
    "## Анализ датасета\n"
   ]
  },
  {
   "cell_type": "code",
   "execution_count": 6,
   "metadata": {},
   "outputs": [],
   "source": [
    "train_list = []\n",
    "for resp in responses:\n",
    "#     print(list(resp.values()))\n",
    "    train_list.append(list(resp.values()))\n",
    "train = pd.DataFrame(columns = list(responses[99].keys()), data = train_list)\n",
    "del train_list"
   ]
  },
  {
   "cell_type": "code",
   "execution_count": 7,
   "metadata": {},
   "outputs": [
    {
     "data": {
      "text/html": [
       "<div>\n",
       "<style scoped>\n",
       "    .dataframe tbody tr th:only-of-type {\n",
       "        vertical-align: middle;\n",
       "    }\n",
       "\n",
       "    .dataframe tbody tr th {\n",
       "        vertical-align: top;\n",
       "    }\n",
       "\n",
       "    .dataframe thead th {\n",
       "        text-align: right;\n",
       "    }\n",
       "</style>\n",
       "<table border=\"1\" class=\"dataframe\">\n",
       "  <thead>\n",
       "    <tr style=\"text-align: right;\">\n",
       "      <th></th>\n",
       "      <th>city</th>\n",
       "      <th>rating_not_checked</th>\n",
       "      <th>title</th>\n",
       "      <th>num_comments</th>\n",
       "      <th>bank_license</th>\n",
       "      <th>author</th>\n",
       "      <th>bank_name</th>\n",
       "      <th>datetime</th>\n",
       "      <th>text</th>\n",
       "      <th>rating_grade</th>\n",
       "    </tr>\n",
       "  </thead>\n",
       "  <tbody>\n",
       "    <tr>\n",
       "      <th>0</th>\n",
       "      <td>г. Москва</td>\n",
       "      <td>False</td>\n",
       "      <td>Жалоба</td>\n",
       "      <td>0</td>\n",
       "      <td>лицензия № 2562</td>\n",
       "      <td>uhnov1</td>\n",
       "      <td>Бинбанк</td>\n",
       "      <td>2015-06-08 12:50:54</td>\n",
       "      <td>Добрый день! Я не являюсь клиентом банка и пор...</td>\n",
       "      <td>NaN</td>\n",
       "    </tr>\n",
       "    <tr>\n",
       "      <th>1</th>\n",
       "      <td>г. Новосибирск</td>\n",
       "      <td>False</td>\n",
       "      <td>Не могу пользоваться услугой Сбербанк он-лайн</td>\n",
       "      <td>0</td>\n",
       "      <td>лицензия № 1481</td>\n",
       "      <td>Foryou</td>\n",
       "      <td>Сбербанк России</td>\n",
       "      <td>2015-06-08 11:09:57</td>\n",
       "      <td>Доброго дня! Являюсь держателем зарплатной кар...</td>\n",
       "      <td>NaN</td>\n",
       "    </tr>\n",
       "    <tr>\n",
       "      <th>2</th>\n",
       "      <td>г. Москва</td>\n",
       "      <td>False</td>\n",
       "      <td>Двойное списание за один товар.</td>\n",
       "      <td>1</td>\n",
       "      <td>лицензия № 2562</td>\n",
       "      <td>Vladimir84</td>\n",
       "      <td>Бинбанк</td>\n",
       "      <td>2015-06-05 20:14:28</td>\n",
       "      <td>Здравствуйте!  Дублирую свое заявление от 03.0...</td>\n",
       "      <td>NaN</td>\n",
       "    </tr>\n",
       "    <tr>\n",
       "      <th>3</th>\n",
       "      <td>г. Ставрополь</td>\n",
       "      <td>False</td>\n",
       "      <td>Меняют проценты комиссии  не предупредив и не ...</td>\n",
       "      <td>2</td>\n",
       "      <td>лицензия № 1481</td>\n",
       "      <td>643609</td>\n",
       "      <td>Сбербанк России</td>\n",
       "      <td>2015-06-05 13:51:01</td>\n",
       "      <td>Добрый день!! Я открыл расчетный счет в СберБа...</td>\n",
       "      <td>NaN</td>\n",
       "    </tr>\n",
       "    <tr>\n",
       "      <th>4</th>\n",
       "      <td>г. Челябинск</td>\n",
       "      <td>False</td>\n",
       "      <td>Верните денежные средства за страховку</td>\n",
       "      <td>1</td>\n",
       "      <td>лицензия № 2766</td>\n",
       "      <td>anfisa-2003</td>\n",
       "      <td>ОТП Банк</td>\n",
       "      <td>2015-06-05 10:58:12</td>\n",
       "      <td>04.03.2015 г. взяла кредит в вашем банке, заяв...</td>\n",
       "      <td>NaN</td>\n",
       "    </tr>\n",
       "  </tbody>\n",
       "</table>\n",
       "</div>"
      ],
      "text/plain": [
       "             city  rating_not_checked  \\\n",
       "0       г. Москва               False   \n",
       "1  г. Новосибирск               False   \n",
       "2       г. Москва               False   \n",
       "3   г. Ставрополь               False   \n",
       "4    г. Челябинск               False   \n",
       "\n",
       "                                               title  num_comments  \\\n",
       "0                                             Жалоба             0   \n",
       "1      Не могу пользоваться услугой Сбербанк он-лайн             0   \n",
       "2                    Двойное списание за один товар.             1   \n",
       "3  Меняют проценты комиссии  не предупредив и не ...             2   \n",
       "4             Верните денежные средства за страховку             1   \n",
       "\n",
       "      bank_license       author        bank_name             datetime  \\\n",
       "0  лицензия № 2562       uhnov1          Бинбанк  2015-06-08 12:50:54   \n",
       "1  лицензия № 1481       Foryou  Сбербанк России  2015-06-08 11:09:57   \n",
       "2  лицензия № 2562   Vladimir84          Бинбанк  2015-06-05 20:14:28   \n",
       "3  лицензия № 1481       643609  Сбербанк России  2015-06-05 13:51:01   \n",
       "4  лицензия № 2766  anfisa-2003         ОТП Банк  2015-06-05 10:58:12   \n",
       "\n",
       "                                                text  rating_grade  \n",
       "0  Добрый день! Я не являюсь клиентом банка и пор...           NaN  \n",
       "1  Доброго дня! Являюсь держателем зарплатной кар...           NaN  \n",
       "2  Здравствуйте!  Дублирую свое заявление от 03.0...           NaN  \n",
       "3  Добрый день!! Я открыл расчетный счет в СберБа...           NaN  \n",
       "4  04.03.2015 г. взяла кредит в вашем банке, заяв...           NaN  "
      ]
     },
     "execution_count": 7,
     "metadata": {},
     "output_type": "execute_result"
    }
   ],
   "source": [
    "train.head()"
   ]
  },
  {
   "cell_type": "code",
   "execution_count": 8,
   "metadata": {},
   "outputs": [
    {
     "data": {
      "text/plain": [
       "5824"
      ]
     },
     "execution_count": 8,
     "metadata": {},
     "output_type": "execute_result"
    }
   ],
   "source": [
    "len(train['city'].unique())"
   ]
  },
  {
   "cell_type": "markdown",
   "metadata": {},
   "source": [
    "#### Довольно много населенных пунктов. Так же часто  населнные пункты начинаются с обозначения типа  населенного пукта.\n"
   ]
  },
  {
   "cell_type": "code",
   "execution_count": 9,
   "metadata": {},
   "outputs": [],
   "source": [
    "# print(str(train['city'].unique()))\n",
    "def del_town_L(town):\n",
    "    \"\"\"\n",
    "    удаление 'г.' из начала строки \n",
    "    \"\"\"\n",
    "    if town[:2] == 'г.':\n",
    "        town = town[3:]\n",
    "#         print(f'!!{town}')\n",
    "        \n",
    "        return del_town_L(town)\n",
    "    else:\n",
    "        return town\n",
    "       "
   ]
  },
  {
   "cell_type": "code",
   "execution_count": 10,
   "metadata": {},
   "outputs": [
    {
     "data": {
      "text/html": [
       "<div>\n",
       "<style scoped>\n",
       "    .dataframe tbody tr th:only-of-type {\n",
       "        vertical-align: middle;\n",
       "    }\n",
       "\n",
       "    .dataframe tbody tr th {\n",
       "        vertical-align: top;\n",
       "    }\n",
       "\n",
       "    .dataframe thead th {\n",
       "        text-align: right;\n",
       "    }\n",
       "</style>\n",
       "<table border=\"1\" class=\"dataframe\">\n",
       "  <thead>\n",
       "    <tr style=\"text-align: right;\">\n",
       "      <th></th>\n",
       "      <th>city</th>\n",
       "      <th>rating_not_checked</th>\n",
       "      <th>title</th>\n",
       "      <th>num_comments</th>\n",
       "      <th>bank_license</th>\n",
       "      <th>author</th>\n",
       "      <th>bank_name</th>\n",
       "      <th>datetime</th>\n",
       "      <th>text</th>\n",
       "      <th>rating_grade</th>\n",
       "      <th>city_clear</th>\n",
       "    </tr>\n",
       "  </thead>\n",
       "  <tbody>\n",
       "    <tr>\n",
       "      <th>0</th>\n",
       "      <td>г. Москва</td>\n",
       "      <td>False</td>\n",
       "      <td>Жалоба</td>\n",
       "      <td>0</td>\n",
       "      <td>лицензия № 2562</td>\n",
       "      <td>uhnov1</td>\n",
       "      <td>Бинбанк</td>\n",
       "      <td>2015-06-08 12:50:54</td>\n",
       "      <td>Добрый день! Я не являюсь клиентом банка и пор...</td>\n",
       "      <td>NaN</td>\n",
       "      <td>Москва</td>\n",
       "    </tr>\n",
       "    <tr>\n",
       "      <th>1</th>\n",
       "      <td>г. Новосибирск</td>\n",
       "      <td>False</td>\n",
       "      <td>Не могу пользоваться услугой Сбербанк он-лайн</td>\n",
       "      <td>0</td>\n",
       "      <td>лицензия № 1481</td>\n",
       "      <td>Foryou</td>\n",
       "      <td>Сбербанк России</td>\n",
       "      <td>2015-06-08 11:09:57</td>\n",
       "      <td>Доброго дня! Являюсь держателем зарплатной кар...</td>\n",
       "      <td>NaN</td>\n",
       "      <td>Новосибирск</td>\n",
       "    </tr>\n",
       "    <tr>\n",
       "      <th>2</th>\n",
       "      <td>г. Москва</td>\n",
       "      <td>False</td>\n",
       "      <td>Двойное списание за один товар.</td>\n",
       "      <td>1</td>\n",
       "      <td>лицензия № 2562</td>\n",
       "      <td>Vladimir84</td>\n",
       "      <td>Бинбанк</td>\n",
       "      <td>2015-06-05 20:14:28</td>\n",
       "      <td>Здравствуйте!  Дублирую свое заявление от 03.0...</td>\n",
       "      <td>NaN</td>\n",
       "      <td>Москва</td>\n",
       "    </tr>\n",
       "    <tr>\n",
       "      <th>3</th>\n",
       "      <td>г. Ставрополь</td>\n",
       "      <td>False</td>\n",
       "      <td>Меняют проценты комиссии  не предупредив и не ...</td>\n",
       "      <td>2</td>\n",
       "      <td>лицензия № 1481</td>\n",
       "      <td>643609</td>\n",
       "      <td>Сбербанк России</td>\n",
       "      <td>2015-06-05 13:51:01</td>\n",
       "      <td>Добрый день!! Я открыл расчетный счет в СберБа...</td>\n",
       "      <td>NaN</td>\n",
       "      <td>Ставрополь</td>\n",
       "    </tr>\n",
       "    <tr>\n",
       "      <th>4</th>\n",
       "      <td>г. Челябинск</td>\n",
       "      <td>False</td>\n",
       "      <td>Верните денежные средства за страховку</td>\n",
       "      <td>1</td>\n",
       "      <td>лицензия № 2766</td>\n",
       "      <td>anfisa-2003</td>\n",
       "      <td>ОТП Банк</td>\n",
       "      <td>2015-06-05 10:58:12</td>\n",
       "      <td>04.03.2015 г. взяла кредит в вашем банке, заяв...</td>\n",
       "      <td>NaN</td>\n",
       "      <td>Челябинск</td>\n",
       "    </tr>\n",
       "  </tbody>\n",
       "</table>\n",
       "</div>"
      ],
      "text/plain": [
       "             city  rating_not_checked  \\\n",
       "0       г. Москва               False   \n",
       "1  г. Новосибирск               False   \n",
       "2       г. Москва               False   \n",
       "3   г. Ставрополь               False   \n",
       "4    г. Челябинск               False   \n",
       "\n",
       "                                               title  num_comments  \\\n",
       "0                                             Жалоба             0   \n",
       "1      Не могу пользоваться услугой Сбербанк он-лайн             0   \n",
       "2                    Двойное списание за один товар.             1   \n",
       "3  Меняют проценты комиссии  не предупредив и не ...             2   \n",
       "4             Верните денежные средства за страховку             1   \n",
       "\n",
       "      bank_license       author        bank_name             datetime  \\\n",
       "0  лицензия № 2562       uhnov1          Бинбанк  2015-06-08 12:50:54   \n",
       "1  лицензия № 1481       Foryou  Сбербанк России  2015-06-08 11:09:57   \n",
       "2  лицензия № 2562   Vladimir84          Бинбанк  2015-06-05 20:14:28   \n",
       "3  лицензия № 1481       643609  Сбербанк России  2015-06-05 13:51:01   \n",
       "4  лицензия № 2766  anfisa-2003         ОТП Банк  2015-06-05 10:58:12   \n",
       "\n",
       "                                                text  rating_grade  \\\n",
       "0  Добрый день! Я не являюсь клиентом банка и пор...           NaN   \n",
       "1  Доброго дня! Являюсь держателем зарплатной кар...           NaN   \n",
       "2  Здравствуйте!  Дублирую свое заявление от 03.0...           NaN   \n",
       "3  Добрый день!! Я открыл расчетный счет в СберБа...           NaN   \n",
       "4  04.03.2015 г. взяла кредит в вашем банке, заяв...           NaN   \n",
       "\n",
       "    city_clear  \n",
       "0       Москва  \n",
       "1  Новосибирск  \n",
       "2       Москва  \n",
       "3   Ставрополь  \n",
       "4    Челябинск  "
      ]
     },
     "execution_count": 10,
     "metadata": {},
     "output_type": "execute_result"
    }
   ],
   "source": [
    "train['city'].fillna('Н/д', inplace = True)\n",
    "train['city_clear'] =train.apply(lambda x:del_town_L(x['city']), axis=1)  \n",
    "train.head()"
   ]
  },
  {
   "cell_type": "code",
   "execution_count": 11,
   "metadata": {},
   "outputs": [
    {
     "name": "stdout",
     "output_type": "stream",
     "text": [
      "[' (Красногорск)', ' (Москва)', ' (Россия)', ' (Ханты-Мансийский автономный округ)', ' Железнодорожный', '-', '. Пойковский (Ханты-Мансийский автономный округ)', '...', '....', '.......', '........', '.Новгород', '047169000 или 5939', '1-е Новоспасское', '111', '1111', '112', '112422', '140051, МО, Люберецкий район, Красково', '140205,Pobeda street,16,39,city of Voscresensk,Moscow region', '143420 Московская область, Красногорский район, посёлок дачного хозяйства Архангельское, д.4,кв.2', '1Ёсаратов', '2-я Гавриловка', '21000, China, Jiangsu province, Nanjing', '3 года с ТКС', '312', '5939 можно и так 047169000', '5939 он же 047169000', '636930, Томская обл., Первомайский р-н, с. Первомайское, ул. Советская, 11-4', ':erjdcrbq (Москва)', ':Жуковка', '? видимо москва или новосибирск', 'Astana', 'Aрхангельск', 'Back in USSR...', 'Booischot, Belgium (Москва)', 'Bremen (Москва)', 'Bruxelles', 'C-Пб', 'C-Петербург', 'Cg,', 'Costa-Mesa', 'CАнкт=Петербург', 'CПб', 'Cамара', 'Cанкт -Петербург', 'Cанкт- Петербург', 'Cанкт-Петербург', 'Cанкт-Петербург (Ленинский пр)', 'Cаранск', 'Cерпухов', 'Cимферополь', 'Cочи', 'Cпб', 'Cургут', 'Default', 'Djkujuhfl', 'Dmitrov', 'Ghent, Belgium', 'Goa, Индия', 'Ho Chi Minh City', 'Indonesia', 'Internet', 'Jersey City', 'KZN-MSK-DXB', 'Kazan', 'Khabarovsk', 'Khimki', 'Klaukkala', 'Krasnoyarsk', 'Krasnoyarsk (Санкт-Петербург)', 'Kurgan', 'Kursk', 'London', 'Louisville', 'MOSCOW', 'MOSKVA', 'MSK', 'Miami Beach', 'Miesau', 'Mocква', 'Moscow', 'Moscow -- New York', 'Moscow, Russia', 'Moscow-city', 'Moskow', 'Moskva', 'Mscow', 'Murmansk', 'Mосква', 'N-ск', 'N.Novgorod', 'Naberezhnye Chelny', 'New York', 'Niznevartovsk', 'Novosibirsk', 'Omsk', 'Orel', 'Penza', 'Perm', 'Podolsk', 'Pskov', 'Rfpfym', 'Rotherham', 'Ryazan', 'SPB', 'SPb', 'Safonovo', 'Saint Petersburg', 'Saint-Petersburg', 'Salou Tarragona (Москва)', 'Samara', 'Sankt-Peterbourg', 'Sankt-Peterburg', 'Saratov', 'Sochi', 'Spb', 'St Petersburg', 'St.Petersburg', 'Stavropol', 'Sydney', 'Tomsk', 'Trondheim, Norway', 'UFA', 'Vjcrdf', 'Vlg', 'Volgograd', 'Voronezh', 'Waterbury', 'Winnipeg, Canada', 'Zarechniy', 'Zhukovsky', '\\\\бобруйск :)', 'barnaul', 'c.Коса', 'c.Новодугино', 'chelyabinsk', 'cтарый оскол', 'issy-les-moulineaux', 'kazan', 'misk', 'moscow', 'moscow city', 'moskva', 'msk', 'n/a (Москва)', 'omsk', 'saratov', 'smolensk', 'volgograd']\n"
     ]
    }
   ],
   "source": [
    "train['city_clear'].fillna('Н/д', inplace = True)\n",
    "print(list(train['city_clear'].sort_values().unique())[:150])"
   ]
  },
  {
   "cell_type": "markdown",
   "metadata": {},
   "source": [
    "\n",
    "#### Наблюдается сокращение названий городов, дублирование городов в скобках, отсутствие названия города, фиктивыне города, Иностраные города, города, написанные латиницей\n"
   ]
  },
  {
   "cell_type": "markdown",
   "metadata": {},
   "source": [
    "\n",
    "**Для фильтрации прдедлагается сипользовать словари сокращений для городов (как общеупотриебимые, так и стандарта IATA). Для идентификации населенных пуктов предлагется использовать списко населенных пунктов из ОКАТО для России и список крупых кородов для других стран**\n"
   ]
  },
  {
   "cell_type": "code",
   "execution_count": 256,
   "metadata": {},
   "outputs": [],
   "source": [
    "city = pd.read_csv('./regions/city.csv', encoding = 'cp1251',sep=';')\n",
    "rus_abr = pd.read_csv('./regions/rus_abr.csv', header = None)\n",
    "rus_en_iata = pd.read_csv('./regions/rus_en_iata.csv',sep=',', header = None, names = ['tmp'])\n",
    "locs = pd.read_csv('./okato2locations/locs.csv',sep=',', header = None)\n",
    "\n",
    "\n",
    "# city_list = list(city[city['country_id'] != 3159]['name'])\n",
    "city_list = list(city['name'])\n",
    "city_list = ['Дубай' if x=='Дубаи' else x for x in city_list]\n",
    "\n",
    "rus_en_iata['iata'] = rus_en_iata['tmp'].str.slice(start=0, stop=3)\n",
    "rus_en_iata['name'] = rus_en_iata['tmp'].str.slice(start=3)\n",
    "drop_cols = ['tmp']\n",
    "rus_en_iata.drop(drop_cols, axis=1, inplace=True)\n",
    "\n",
    "\n",
    "rus_abr.dropna(inplace = True)\n",
    "rus_abr_d = dict(zip(rus_abr[0], rus_abr[1]))\n",
    "\n",
    "\n",
    "\n",
    "rus_en_iata.head()\n",
    "rus_en_iata_d = dict(zip(rus_en_iata['iata'], rus_en_iata['name']))\n"
   ]
  },
  {
   "cell_type": "markdown",
   "metadata": {},
   "source": [
    "\n",
    "#### Так как наблюдается большое количество наслененных пунктов, введенных на английском языке, то требуется перевод. Предлагается эту задачу считать решенной (благодаря ипользованию google translate). Так же текст часто вводился в свободной форме. Для автомтической проверки текста предлагается использовать Yandex Speller. Это не решит задачу полонстью, но существенно сэкономит время. \n",
    " \n",
    "#### Так же в поле для населенных пуктов введено довольно много лишней инфомации - названия ренионов, номера домов, почтовые индексы. Для фильтрации от них предлагается использовать регулярные выражения"
   ]
  },
  {
   "cell_type": "code",
   "execution_count": 257,
   "metadata": {},
   "outputs": [],
   "source": [
    "def ru_translate(word, translator):\n",
    "    try:\n",
    "        if translator.translate(word, src = 'en', dest='ru').text != 'ru':\n",
    "            return translator.translate(word, src = 'en', dest='ru').text\n",
    "        else:\n",
    "            return word\n",
    "    except:\n",
    "        return word\n",
    "    \n",
    "def ya_spell_check(text, api_options = 0):\n",
    "    import requests\n",
    "    _api_query = 'https://speller.yandex.net/services/' \\\n",
    "                          'spellservice.json/checkText'\n",
    "    \n",
    "    data = {'text': text,\n",
    "            'options': api_options,\n",
    "#             'lang': lang,\n",
    "           }\n",
    "    response = requests.post(url=_api_query, data=data).json()\n",
    "    try:\n",
    "        changes = {change['word']: change['s'][0] for change in response}\n",
    "        for word, suggestion in changes.items():\n",
    "            text = text.replace(word, suggestion)\n",
    "        return text\n",
    "    except:\n",
    "        return text\n",
    "\n",
    "    \n",
    "    \n",
    "def del_reg (words):\n",
    "    \"\"\"\n",
    "    удаление области и района из текста\n",
    "    \"\"\"\n",
    "    re_del_reg = re.compile(r\"([\\а-яА-ЯЁё]+ (?=([Оо]бл([а\\,\\.][с,]т[ьи]|[.]|))|([Рр]айон([а,. ]|[ ,.]]|))|([Рр]-[он][[. н]|])))\")\n",
    "    re_del_reg_word = re.compile(r\"[Оо]бл([а\\,\\.][с,]т[ьи]|[.]|)|([Рр]айон([а,. ]|[ ,.]|))|[Рр]-[он][[. н]|]|[Сс]ел[оа]\")\n",
    "    re_del_short = re.compile(r\"\\.{3,}|\\b\\w{1.2}\\.|\\d+-\\d+||\\d{2,},|\\d{2,}|\\d[\\wА-ЯЁ]|[Дд][.\\d]{1,4}|[Кк]в[.\\d]{1,3}\")\n",
    "    \n",
    "    words = re_del_reg.sub('', words)\n",
    "    words = re_del_reg_word.sub('', words)\n",
    "    words = re_del_short.sub('', words)\n",
    "    return words \n",
    "\n",
    "def del_str (words):\n",
    "    \"\"\"\n",
    "    улиц и проспектов f а так же слов ,обознгачающих населенный пунки (город, село) из текста\n",
    "    \"\"\"\n",
    "    del_street = re.compile( r\"([\\а-яА-ЯЁё]+ ((?<=ул )|(?<=ул\\.)))|((?<=ул )|(?<=ул\\.)|(?<=ул\\. ))([\\А-ЯЁ]{2}|[\\а-яА-ЯЁё]+ая,|[\\а-яА-ЯЁё]+ая)\")\n",
    "    del_street_long = re.compile( r\"([\\А-ЯЁ]{2}|[\\а-яА-ЯЁё]+ (\\b[уУ]лиц[аы][, ]))|((\\b[уУ]лиц[аы][, ])|(?<=ул\\.))([\\А-ЯЁ]{2}|[\\а-яА-ЯЁё]+ая,|[\\а-яА-ЯЁё]+ая)\")\n",
    "    del_street2 = re.compile( r\"(\\b[У]лиц[аы][, ])|(Ул[,\\. ])|(\\bул\\b)\")\n",
    "    del_town = re.compile( r\"\\b[гГ]ород[а,. ]|\\bГ\\.\\b|\\bc\\.|\\bc\\.|с\\. | С \")\n",
    "    del_prosp = re.compile( r\"([\\а-яА-ЯЁё]+ий (?=пр))\")\n",
    "    del_prosp2 = re.compile( r\"\\bпр\\b\")\n",
    "    \n",
    "    words = del_street.sub(' ', words)\n",
    "    words = del_street2.sub(' ', words)\n",
    "    words = del_town.sub(' ', words)\n",
    "    words = del_prosp.sub(' ', words)\n",
    "    words = del_prosp2.sub(' ', words)\n",
    "    return words\n",
    "    \n",
    "\n",
    "\n",
    "def del_rep_kray (words):\n",
    "    \"\"\"\n",
    "    удаление краёв и республик из текста\n",
    "    \"\"\"\n",
    "    del_rep = re.compile( r\"((?<=(Республика )))([\\а-яА-ЯЁё]+)|((?<=([Рр]есп\\.)))([\\а-яА-ЯЁё]+)\")\n",
    "    del_rep2 = re.compile( r\"\\b[Рр]еспублика|\\b[Рр]есп.|\\b[Рр]\\.\")\n",
    "    del_kray = re.compile( r\"([\\а-яА-ЯЁё]+ий (?=Край))\")\n",
    "    del_kray2 = re.compile( r\"\\bКрай\\b\")   \n",
    "    \n",
    "    words = del_rep.sub(' ', words)\n",
    "    words = del_rep2.sub(' ', words)\n",
    "    words = del_kray.sub(' ', words)\n",
    "    words = del_kray2.sub(' ', words)\n",
    "    return words\n",
    "\n",
    "def del_spaces (words):\n",
    "    \"\"\"\n",
    "    удаление пробелов в начале и длиных пробелов внутри текста\n",
    "    \"\"\"\n",
    "    del_begin_str = re.compile( r\"^ +\")\n",
    "    del_wide_space = re.compile( r\"\\ {2,}\")\n",
    "    \n",
    "    words = del_begin_str.sub(' ', words)\n",
    "    words = del_wide_space.sub(' ', words)\n",
    "    return words\n",
    "\n",
    "\n",
    "\n",
    "def iata_replace(match):\n",
    "    match = match.group()\n",
    "    for word, initial in rus_abr_d.items():\n",
    "        match = match.replace(word, initial)\n",
    "    for word, initial in rus_en_iata_d.items():\n",
    "        match = match.replace(word, initial)\n",
    "    return match \n",
    "\n",
    "def filter_row(city):\n",
    "    \"\"\"\n",
    "    замена iata, удаление регионов, республик, краёв\n",
    "    \"\"\"\n",
    "    city = city.title()\n",
    "\n",
    "    city = del_reg(city)\n",
    "    city = del_str(city)\n",
    "    city = del_rep_kray(city)\n",
    "    city = del_spaces(city)\n",
    "    return city "
   ]
  },
  {
   "cell_type": "markdown",
   "metadata": {},
   "source": [
    "####  Выделение городов будет вестись на отдельном списке, состоящем только из униакльных записей поля train['city'] Предварительная фильтрация теста от знаков. Так же слова, записанные латиницей и состоящие из трех букв переводятся в верхний регистр. Замечено, что  Yandex Speller в таком случая  иногда может находить  сущности (восстанавливать названия населенных пуктов) \n",
    "\n",
    "#### Обработка  с помощью  Yandex Speller,  google translate, очистка от названия регионов, извлечение информации из сокращений. "
   ]
  },
  {
   "cell_type": "code",
   "execution_count": 258,
   "metadata": {},
   "outputs": [
    {
     "name": "stderr",
     "output_type": "stream",
     "text": [
      "/home/vvs/anaconda3/lib/python3.7/site-packages/ipykernel_launcher.py:34: FutureWarning: Possible nested set at position 87\n",
      "/home/vvs/anaconda3/lib/python3.7/site-packages/ipykernel_launcher.py:35: FutureWarning: Possible nested set at position 66\n"
     ]
    }
   ],
   "source": [
    "\n",
    "translator = Translator()\n",
    "unique_names = list(train['city_clear'].sort_values().unique())\n",
    "ru_names = []\n",
    "\n",
    "\n",
    "\n",
    "for city in unique_names:\n",
    "    city = re.sub(r\"[%&()*\\\"#/@;:<>{}`+=~|!?,]+\", \" \", city)\n",
    "    city = re.sub(r'\\b[A-Za-z]{3}\\b', lambda pat: pat.group(0).upper(), city)\n",
    "    city = del_reg(city)\n",
    "    new_city = ya_spell_check(city)\n",
    "    \n",
    "    new_city2 = ru_translate(new_city, translator)\n",
    "    \n",
    "    for word, initial in rus_abr_d.items():\n",
    "        city = new_city2.replace(word, initial)\n",
    "\n",
    "    city = del_reg(city)\n",
    "    city = del_str(city)\n",
    "    \n",
    "    city = re.sub(r'\\b\\w{2,3}\\b', iata_replace, city)\n",
    "    city = city.title()\n",
    "\n",
    "    city = del_reg(city)\n",
    "    city = del_str(city)\n",
    "    city = del_rep_kray(city)\n",
    "    city = del_spaces(city)\n",
    "    \n",
    "    ru_names.append(city)\n",
    "    city =  ''"
   ]
  },
  {
   "cell_type": "markdown",
   "metadata": {},
   "source": [
    "#### Для выявления населенных пунктов будет использоваться обьединенный список российских населенных пуктов из ОКАТО и список крупных зарубежных городов. "
   ]
  },
  {
   "cell_type": "code",
   "execution_count": 259,
   "metadata": {},
   "outputs": [],
   "source": [
    "def del_town_letter (words):\n",
    "    \"\"\"\n",
    "    удаление обозначения населенного пункта\n",
    "    \"\"\"\n",
    "    re_del_reg = re.compile(r\"^[а-яё\\/. -]+|^|,$\")\n",
    "    words = re_del_reg.sub('', words)\n",
    "    return words "
   ]
  },
  {
   "cell_type": "code",
   "execution_count": 297,
   "metadata": {},
   "outputs": [],
   "source": [
    "all_rus_locations = list(locs[2])\n",
    "all_rus_locations = [del_town_letter(location) for location in all_rus_locations]\n",
    "all_rus_locations = all_rus_locations + city_list\n",
    "all_rus_locations = list(set(all_rus_locations))"
   ]
  },
  {
   "cell_type": "code",
   "execution_count": 298,
   "metadata": {},
   "outputs": [],
   "source": [
    "city_df = pd.DataFrame()\n",
    "city_df['city'] = all_rus_locations\n",
    "city_df['city_vect'] = city_df.apply(lambda row: small_model[row['city']], axis = 1)\n",
    "city_df.drop([0], inplace = True)"
   ]
  },
  {
   "cell_type": "markdown",
   "metadata": {},
   "source": [
    "#### Для поиска городов будут использоваться векторыне представления слов, полученные с помощью сжатой предобученной модели fasttext. В качестве меры сходства будет использоватсья косинусная мера.\n",
    "\n",
    "Предпринята попытка поиска всех возможных городов в одном обращении ( так как замечено, что их может быть несколько). Для этого строка с текстом бьется на слова. Поиск начинается с первого слова. \n",
    "\n",
    "Псевдоалгоритм:\n",
    "\n",
    "1. Узнать количество слов в строке N.\n",
    "2. Подготовить пустой списк, в который будут добавляться найденные в строке города L.\n",
    "3. Создать пустую строку Т и добавить в нее первое слово из нашей строки.\n",
    "4. Повторять до конца строки N\n",
    "\n",
    " --) если строка T есть в словаре  - возврат строки Т. в противном случае: \n",
    " а) получить векторное представление строки Т\n",
    " \n",
    " б) получить косинусную меру с векторными представлениями городов в словаре и строки Т\n",
    " \n",
    " в) найти максимальное значение среди всех представлений.\n",
    " \n",
    " г) если максимальное значение значение больше порога - добавить город соответсвующий максимальному значению косиносной меры в спискок L. Если это не посленее слово в строке - перейти к шагу 3. В качестве первого слова взять первое по очередности, неиспользованное до этого в проверке.\n",
    "В случае, если  максимальное значение значение меньше порога - добавить следущее слово из строки N  в строку T и перйти в начало пункта 4.\n",
    "5. Полученное на шаге 4 слово сравниваем с последним в списке найденных в этой строке Т слов. Если последнее слово в списке найденных в этой строке Т слов есть в слове (словосочетании 4), то заменяем последнее слово в списке, найденным в пунке 4. (пример Тагил - Нижний Тагил)\n",
    "\n",
    "На выходе получаем список с найденными в строке N названиями населенных пунктов.\n",
    " "
   ]
  },
  {
   "cell_type": "code",
   "execution_count": 296,
   "metadata": {},
   "outputs": [
    {
     "data": {
      "text/html": [
       "<div>\n",
       "<style scoped>\n",
       "    .dataframe tbody tr th:only-of-type {\n",
       "        vertical-align: middle;\n",
       "    }\n",
       "\n",
       "    .dataframe tbody tr th {\n",
       "        vertical-align: top;\n",
       "    }\n",
       "\n",
       "    .dataframe thead th {\n",
       "        text-align: right;\n",
       "    }\n",
       "</style>\n",
       "<table border=\"1\" class=\"dataframe\">\n",
       "  <thead>\n",
       "    <tr style=\"text-align: right;\">\n",
       "      <th></th>\n",
       "      <th>city_clear</th>\n",
       "      <th>ru_names</th>\n",
       "    </tr>\n",
       "  </thead>\n",
       "  <tbody>\n",
       "    <tr>\n",
       "      <th>0</th>\n",
       "      <td>(Красногорск)</td>\n",
       "      <td>Красногорск</td>\n",
       "    </tr>\n",
       "    <tr>\n",
       "      <th>1</th>\n",
       "      <td>(Москва)</td>\n",
       "      <td>Москва</td>\n",
       "    </tr>\n",
       "    <tr>\n",
       "      <th>2</th>\n",
       "      <td>(Россия)</td>\n",
       "      <td>Россия</td>\n",
       "    </tr>\n",
       "    <tr>\n",
       "      <th>3</th>\n",
       "      <td>(Ханты-Мансийский автономный округ)</td>\n",
       "      <td>Ханты-Мансийский Автономный Округ</td>\n",
       "    </tr>\n",
       "    <tr>\n",
       "      <th>4</th>\n",
       "      <td>Железнодорожный</td>\n",
       "      <td>Железнодорожный</td>\n",
       "    </tr>\n",
       "  </tbody>\n",
       "</table>\n",
       "</div>"
      ],
      "text/plain": [
       "                             city_clear                           ru_names\n",
       "0                         (Красногорск)                        Красногорск\n",
       "1                              (Москва)                             Москва\n",
       "2                              (Россия)                             Россия\n",
       "3   (Ханты-Мансийский автономный округ)  Ханты-Мансийский Автономный Округ\n",
       "4                       Железнодорожный                    Железнодорожный"
      ]
     },
     "execution_count": 296,
     "metadata": {},
     "output_type": "execute_result"
    }
   ],
   "source": [
    "df_names = pd.DataFrame()\n",
    "df_names['city_clear'] = unique_names\n",
    "df_names['ru_names'] = ru_names\n",
    "df_names.head()"
   ]
  },
  {
   "cell_type": "code",
   "execution_count": 317,
   "metadata": {},
   "outputs": [],
   "source": [
    "def find_town(pretender, \n",
    "              similaruty_df, \n",
    "              col_name, \n",
    "              col_vect,\n",
    "              level = 0.86\n",
    "             ):\n",
    "    if len(similaruty_df[similaruty_df[col_name] ==pretender]) !=0:\n",
    "        return pretender, 1\n",
    "    fasttext_pretender = small_model[pretender]\n",
    "    np_city_vect = similaruty_df[col_vect].to_numpy()\n",
    "    cosimilar = lambda t: 1-cosine(t, fasttext_pretender)\n",
    "    squares = np.array([cosimilar(xi) for xi in np_city_vect])\n",
    "    squares =np.nan_to_num(squares)\n",
    "    max_similar = np.max(squares)\n",
    "    if (max_similar < level) or (math.isnan(max_similar)):\n",
    "        return None, 0\n",
    "    else:\n",
    "        return (similaruty_df.loc[np.argmax(squares)+1,][col_name], max_similar)\n",
    "\n",
    "    \n",
    "def find_iterator(list_test_string, \n",
    "                  index_word, word_count, \n",
    "                  similaruty_df,\n",
    "                  col_name, \n",
    "                  col_vect\n",
    "                 ):\n",
    "    counter = 1\n",
    "    temp_town = None\n",
    "    temp_counter = 0\n",
    "    temp_p_town = 0\n",
    "    sucsess = False\n",
    "    while (counter < (word_count-index_word +1)) and (counter < 4):\n",
    "        test_string = ' '.join(list_test_string[index_word:(counter+index_word)])\n",
    "        town, p_town = find_town(test_string, \n",
    "                                 similaruty_df,\n",
    "                                 col_name,\n",
    "                                 col_vect\n",
    "                                )\n",
    "        if (town != None):\n",
    "            if temp_town != None :\n",
    "                if (temp_town in town):\n",
    "                    sucsess = True\n",
    "                    return town, temp_counter, sucsess\n",
    "                else:\n",
    "                    if p_town <= temp_p_town:\n",
    "                        return temp_town, temp_counter, sucsess\n",
    "                    temp_town = town \n",
    "                    temp_counter = counter\n",
    "                    sucsess = True\n",
    "            else:\n",
    "                temp_town = town \n",
    "                temp_counter = counter\n",
    "                temp_p_town = p_town\n",
    "                sucsess = True\n",
    "                    \n",
    "        counter += 1\n",
    "    return temp_town, temp_counter, sucsess\n",
    "        \n",
    "    \n",
    "    \n",
    "def find_town_string(test_string, \n",
    "                     similaruty_df, \n",
    "                     col_name = 'city', \n",
    "                     col_vect = 'city_vect'):\n",
    "    word_count = len(test_string.split())\n",
    "    list_test_string = test_string.split()\n",
    "    index_word = 0\n",
    "    city_list = []\n",
    "    prev_word = \"\"\n",
    "    while index_word <  word_count+1:\n",
    "        city, n_words, sucsess = find_iterator(list_test_string, \n",
    "                                               index_word, \n",
    "                                               word_count, \n",
    "                                               similaruty_df,\n",
    "                                               col_name, \n",
    "                                               col_vect \n",
    "                                              )\n",
    "        if n_words == 0:\n",
    "            index_word += 1\n",
    "        else:\n",
    "            index_word += n_words\n",
    "        if sucsess and not(city in prev_word):\n",
    "            city_list.append(city)\n",
    "            prev_word = city\n",
    "    return city_list\n",
    "    \n",
    "\n",
    "    \n",
    "    \n"
   ]
  },
  {
   "cell_type": "markdown",
   "metadata": {},
   "source": [
    "#### Регулярные выражения для очистки"
   ]
  },
  {
   "cell_type": "code",
   "execution_count": 17,
   "metadata": {},
   "outputs": [],
   "source": [
    "\n",
    "re_del_spec = re.compile( r\"[%&()*\\\"#/@;:<>{}`+=~|!?,.]+\")\n",
    "re_del_space = re.compile( r\"(?<=^) +| +$\")\n",
    "re_del_space2 = re.compile( r\" {2,}\")\n",
    "re_del_space_short = re.compile( r\" (?=-)|(?<=-) \")\n",
    "re_lower_in_numbers = re.compile( r\"(?<=\\d-)[А-Я]\")\n",
    "\n"
   ]
  },
  {
   "cell_type": "code",
   "execution_count": 318,
   "metadata": {},
   "outputs": [
    {
     "name": "stdout",
     "output_type": "stream",
     "text": [
      "CPU times: user 12h 10min 57s, sys: 2min 57s, total: 12h 13min 55s\n",
      "Wall time: 12h 21min 33s\n"
     ]
    }
   ],
   "source": [
    "%%time\n",
    "\n",
    "set_ru_names = list(set(ru_names))\n",
    "ru_names_town_list = []\n",
    "\n",
    "for name in set_ru_names:\n",
    "    name = re_del_spec.sub(\" \", name)\n",
    "    name = re_del_space.sub(\"\", name)\n",
    "    name = re_del_space2.sub(\" \", name)\n",
    "    name = re_del_space_short.sub(\"\", name)\n",
    "    name = re_lower_in_numbers.sub(lambda m: m.group(0).lower(), name)\n",
    "    \n",
    "    ru_names_town = find_town_string(name,city_df)\n",
    "    ru_names_town_list.append(ru_names_town)"
   ]
  },
  {
   "cell_type": "markdown",
   "metadata": {},
   "source": [
    "#### Сопоставленные значения городов и со списками найденных населленных пунктов"
   ]
  },
  {
   "cell_type": "code",
   "execution_count": 320,
   "metadata": {},
   "outputs": [
    {
     "data": {
      "text/html": [
       "<div>\n",
       "<style scoped>\n",
       "    .dataframe tbody tr th:only-of-type {\n",
       "        vertical-align: middle;\n",
       "    }\n",
       "\n",
       "    .dataframe tbody tr th {\n",
       "        vertical-align: top;\n",
       "    }\n",
       "\n",
       "    .dataframe thead th {\n",
       "        text-align: right;\n",
       "    }\n",
       "</style>\n",
       "<table border=\"1\" class=\"dataframe\">\n",
       "  <thead>\n",
       "    <tr style=\"text-align: right;\">\n",
       "      <th></th>\n",
       "      <th>set_ru_names</th>\n",
       "      <th>ru_names_town_list</th>\n",
       "    </tr>\n",
       "  </thead>\n",
       "  <tbody>\n",
       "    <tr>\n",
       "      <th>0</th>\n",
       "      <td></td>\n",
       "      <td>[]</td>\n",
       "    </tr>\n",
       "    <tr>\n",
       "      <th>1</th>\n",
       "      <td>Армизонское</td>\n",
       "      <td>[Армизонское]</td>\n",
       "    </tr>\n",
       "    <tr>\n",
       "      <th>2</th>\n",
       "      <td>Нижний Тагил Екатеринбург</td>\n",
       "      <td>[Нижний Тагил, Екатеринбург]</td>\n",
       "    </tr>\n",
       "    <tr>\n",
       "      <th>3</th>\n",
       "      <td>До Пятигорск</td>\n",
       "      <td>[Пятигорск]</td>\n",
       "    </tr>\n",
       "    <tr>\n",
       "      <th>4</th>\n",
       "      <td>Жалоба На Альфа-Банк</td>\n",
       "      <td>[]</td>\n",
       "    </tr>\n",
       "  </tbody>\n",
       "</table>\n",
       "</div>"
      ],
      "text/plain": [
       "                set_ru_names            ru_names_town_list\n",
       "0                                                       []\n",
       "1                Армизонское                 [Армизонское]\n",
       "2  Нижний Тагил Екатеринбург  [Нижний Тагил, Екатеринбург]\n",
       "3               До Пятигорск                   [Пятигорск]\n",
       "4       Жалоба На Альфа-Банк                            []"
      ]
     },
     "execution_count": 320,
     "metadata": {},
     "output_type": "execute_result"
    }
   ],
   "source": [
    "\n",
    "df_set_ru_names = pd.DataFrame()\n",
    "df_set_ru_names['set_ru_names'] = list(set_ru_names)\n",
    "df_set_ru_names['ru_names_town_list'] = ru_names_town_list\n",
    "\n",
    "df_set_ru_names.head()\n",
    "\n"
   ]
  },
  {
   "cell_type": "code",
   "execution_count": 325,
   "metadata": {},
   "outputs": [
    {
     "data": {
      "text/html": [
       "<div>\n",
       "<style scoped>\n",
       "    .dataframe tbody tr th:only-of-type {\n",
       "        vertical-align: middle;\n",
       "    }\n",
       "\n",
       "    .dataframe tbody tr th {\n",
       "        vertical-align: top;\n",
       "    }\n",
       "\n",
       "    .dataframe thead th {\n",
       "        text-align: right;\n",
       "    }\n",
       "</style>\n",
       "<table border=\"1\" class=\"dataframe\">\n",
       "  <thead>\n",
       "    <tr style=\"text-align: right;\">\n",
       "      <th></th>\n",
       "      <th>set_ru_names</th>\n",
       "      <th>ru_names_town_list</th>\n",
       "    </tr>\n",
       "  </thead>\n",
       "  <tbody>\n",
       "    <tr>\n",
       "      <th>0</th>\n",
       "      <td>NaN</td>\n",
       "      <td>[]</td>\n",
       "    </tr>\n",
       "    <tr>\n",
       "      <th>1</th>\n",
       "      <td>Армизонское</td>\n",
       "      <td>[Армизонское]</td>\n",
       "    </tr>\n",
       "    <tr>\n",
       "      <th>2</th>\n",
       "      <td>Нижний Тагил Екатеринбург</td>\n",
       "      <td>[Нижний Тагил, Екатеринбург]</td>\n",
       "    </tr>\n",
       "    <tr>\n",
       "      <th>3</th>\n",
       "      <td>До Пятигорск</td>\n",
       "      <td>[Пятигорск]</td>\n",
       "    </tr>\n",
       "    <tr>\n",
       "      <th>4</th>\n",
       "      <td>Жалоба На Альфа-Банк</td>\n",
       "      <td>[]</td>\n",
       "    </tr>\n",
       "    <tr>\n",
       "      <th>...</th>\n",
       "      <td>...</td>\n",
       "      <td>...</td>\n",
       "    </tr>\n",
       "    <tr>\n",
       "      <th>3925</th>\n",
       "      <td>Москва-Сергиев Посад</td>\n",
       "      <td>[Сергиев Посад]</td>\n",
       "    </tr>\n",
       "    <tr>\n",
       "      <th>3926</th>\n",
       "      <td>Челябинск Ур. Филиал .Коммуны-</td>\n",
       "      <td>[Челябинск, Ур, Филиал]</td>\n",
       "    </tr>\n",
       "    <tr>\n",
       "      <th>3927</th>\n",
       "      <td>Энгельс</td>\n",
       "      <td>[Энгельс]</td>\n",
       "    </tr>\n",
       "    <tr>\n",
       "      <th>3928</th>\n",
       "      <td>Белгород</td>\n",
       "      <td>[Белгород]</td>\n",
       "    </tr>\n",
       "    <tr>\n",
       "      <th>3929</th>\n",
       "      <td>Великий Устюг</td>\n",
       "      <td>[Великий Устюг]</td>\n",
       "    </tr>\n",
       "  </tbody>\n",
       "</table>\n",
       "<p>3930 rows × 2 columns</p>\n",
       "</div>"
      ],
      "text/plain": [
       "                        set_ru_names            ru_names_town_list\n",
       "0                                NaN                            []\n",
       "1                        Армизонское                 [Армизонское]\n",
       "2          Нижний Тагил Екатеринбург  [Нижний Тагил, Екатеринбург]\n",
       "3                       До Пятигорск                   [Пятигорск]\n",
       "4               Жалоба На Альфа-Банк                            []\n",
       "...                              ...                           ...\n",
       "3925            Москва-Сергиев Посад               [Сергиев Посад]\n",
       "3926  Челябинск Ур. Филиал .Коммуны-       [Челябинск, Ур, Филиал]\n",
       "3927                        Энгельс                      [Энгельс]\n",
       "3928                        Белгород                    [Белгород]\n",
       "3929                   Великий Устюг               [Великий Устюг]\n",
       "\n",
       "[3930 rows x 2 columns]"
      ]
     },
     "execution_count": 325,
     "metadata": {},
     "output_type": "execute_result"
    }
   ],
   "source": [
    "df_set_ru_names['ru_names_town_list'] = ru_names_list\n",
    "df_set_ru_names.drop(['Unnamed: 0'], axis=1, inplace = True)\n",
    "df_set_ru_names"
   ]
  },
  {
   "cell_type": "code",
   "execution_count": 337,
   "metadata": {},
   "outputs": [],
   "source": [
    "ru_names_dict = df_set_ru_names.set_index('set_ru_names').T.to_dict('list')"
   ]
  },
  {
   "cell_type": "code",
   "execution_count": 281,
   "metadata": {},
   "outputs": [],
   "source": [
    "def repl_to_list(town, dict_town):\n",
    "    try:\n",
    "        return dict_town[town][0]\n",
    "    except:\n",
    "        return [town]"
   ]
  },
  {
   "cell_type": "markdown",
   "metadata": {},
   "source": [
    "#### Сопоставленные значения городов  в начальном виде  со списками найденных населленных пунктов"
   ]
  },
  {
   "cell_type": "code",
   "execution_count": 339,
   "metadata": {},
   "outputs": [
    {
     "data": {
      "text/html": [
       "<div>\n",
       "<style scoped>\n",
       "    .dataframe tbody tr th:only-of-type {\n",
       "        vertical-align: middle;\n",
       "    }\n",
       "\n",
       "    .dataframe tbody tr th {\n",
       "        vertical-align: top;\n",
       "    }\n",
       "\n",
       "    .dataframe thead th {\n",
       "        text-align: right;\n",
       "    }\n",
       "</style>\n",
       "<table border=\"1\" class=\"dataframe\">\n",
       "  <thead>\n",
       "    <tr style=\"text-align: right;\">\n",
       "      <th></th>\n",
       "      <th>city_clear</th>\n",
       "      <th>ru_names</th>\n",
       "      <th>ru_names_list</th>\n",
       "    </tr>\n",
       "  </thead>\n",
       "  <tbody>\n",
       "    <tr>\n",
       "      <th>0</th>\n",
       "      <td>(Красногорск)</td>\n",
       "      <td>Красногорск</td>\n",
       "      <td>[Красногорск]</td>\n",
       "    </tr>\n",
       "    <tr>\n",
       "      <th>1</th>\n",
       "      <td>(Москва)</td>\n",
       "      <td>Москва</td>\n",
       "      <td>[Москва]</td>\n",
       "    </tr>\n",
       "    <tr>\n",
       "      <th>2</th>\n",
       "      <td>(Россия)</td>\n",
       "      <td>Россия</td>\n",
       "      <td>[]</td>\n",
       "    </tr>\n",
       "    <tr>\n",
       "      <th>3</th>\n",
       "      <td>(Ханты-Мансийский автономный округ)</td>\n",
       "      <td>Ханты-Мансийский Автономный Округ</td>\n",
       "      <td>[]</td>\n",
       "    </tr>\n",
       "    <tr>\n",
       "      <th>4</th>\n",
       "      <td>Железнодорожный</td>\n",
       "      <td>Железнодорожный</td>\n",
       "      <td>[Железнодорожный]</td>\n",
       "    </tr>\n",
       "  </tbody>\n",
       "</table>\n",
       "</div>"
      ],
      "text/plain": [
       "                             city_clear                           ru_names  \\\n",
       "0                         (Красногорск)                        Красногорск   \n",
       "1                              (Москва)                             Москва   \n",
       "2                              (Россия)                             Россия   \n",
       "3   (Ханты-Мансийский автономный округ)  Ханты-Мансийский Автономный Округ   \n",
       "4                       Железнодорожный                    Железнодорожный   \n",
       "\n",
       "       ru_names_list  \n",
       "0      [Красногорск]  \n",
       "1           [Москва]  \n",
       "2                 []  \n",
       "3                 []  \n",
       "4  [Железнодорожный]  "
      ]
     },
     "execution_count": 339,
     "metadata": {},
     "output_type": "execute_result"
    }
   ],
   "source": [
    "df_names['ru_names_list'] = df_names.apply(lambda raw: repl_to_list(raw['ru_names'], ru_names_dict), axis = 1)\n",
    "df_names.head()"
   ]
  },
  {
   "cell_type": "markdown",
   "metadata": {},
   "source": [
    "#### Пример разного написания названия города в населенном пунке и результат работы алгоритма выявления названий населенных пунктов"
   ]
  },
  {
   "cell_type": "code",
   "execution_count": 340,
   "metadata": {},
   "outputs": [
    {
     "data": {
      "text/html": [
       "<div>\n",
       "<style scoped>\n",
       "    .dataframe tbody tr th:only-of-type {\n",
       "        vertical-align: middle;\n",
       "    }\n",
       "\n",
       "    .dataframe tbody tr th {\n",
       "        vertical-align: top;\n",
       "    }\n",
       "\n",
       "    .dataframe thead th {\n",
       "        text-align: right;\n",
       "    }\n",
       "</style>\n",
       "<table border=\"1\" class=\"dataframe\">\n",
       "  <thead>\n",
       "    <tr style=\"text-align: right;\">\n",
       "      <th></th>\n",
       "      <th>city_clear</th>\n",
       "      <th>ru_names</th>\n",
       "      <th>ru_names_list</th>\n",
       "    </tr>\n",
       "  </thead>\n",
       "  <tbody>\n",
       "    <tr>\n",
       "      <th>3285</th>\n",
       "      <td>РОСТОВ-НА-ДОНУ</td>\n",
       "      <td>Ростов-На-Дону</td>\n",
       "      <td>[Ростов-на-Дону]</td>\n",
       "    </tr>\n",
       "    <tr>\n",
       "      <th>3379</th>\n",
       "      <td>Росто-на-Дону</td>\n",
       "      <td>Ростов-На-Дону</td>\n",
       "      <td>[Ростов-на-Дону]</td>\n",
       "    </tr>\n",
       "    <tr>\n",
       "      <th>3395</th>\n",
       "      <td>Ростов-На-Дону</td>\n",
       "      <td>Ростов-На-Дону</td>\n",
       "      <td>[Ростов-на-Дону]</td>\n",
       "    </tr>\n",
       "    <tr>\n",
       "      <th>3400</th>\n",
       "      <td>Ростов-на-Догну</td>\n",
       "      <td>Ростов-На-Дону</td>\n",
       "      <td>[Ростов-на-Дону]</td>\n",
       "    </tr>\n",
       "    <tr>\n",
       "      <th>3401</th>\n",
       "      <td>Ростов-на-Дону</td>\n",
       "      <td>Ростов-На-Дону</td>\n",
       "      <td>[Ростов-на-Дону]</td>\n",
       "    </tr>\n",
       "    <tr>\n",
       "      <th>3405</th>\n",
       "      <td>Ростов-на-Дону (Ростовская область)</td>\n",
       "      <td>Ростов-На-Дону</td>\n",
       "      <td>[Ростов-на-Дону]</td>\n",
       "    </tr>\n",
       "    <tr>\n",
       "      <th>3407</th>\n",
       "      <td>Ростов-на-Дону г.</td>\n",
       "      <td>Ростов-На-Дону</td>\n",
       "      <td>[Ростов-на-Дону]</td>\n",
       "    </tr>\n",
       "    <tr>\n",
       "      <th>3410</th>\n",
       "      <td>Ростов-на-Дрну</td>\n",
       "      <td>Ростов-На-Дону</td>\n",
       "      <td>[Ростов-на-Дону]</td>\n",
       "    </tr>\n",
       "    <tr>\n",
       "      <th>3411</th>\n",
       "      <td>Ростов-на-дону</td>\n",
       "      <td>Ростов-На-Дону</td>\n",
       "      <td>[Ростов-на-Дону]</td>\n",
       "    </tr>\n",
       "    <tr>\n",
       "      <th>3428</th>\n",
       "      <td>Ротов-на-Дону</td>\n",
       "      <td>Ростов-На-Дону</td>\n",
       "      <td>[Ростов-на-Дону]</td>\n",
       "    </tr>\n",
       "    <tr>\n",
       "      <th>5213</th>\n",
       "      <td>остов-на-Дону</td>\n",
       "      <td>Ростов-На-Дону</td>\n",
       "      <td>[Ростов-на-Дону]</td>\n",
       "    </tr>\n",
       "    <tr>\n",
       "      <th>5420</th>\n",
       "      <td>росто-на-дону</td>\n",
       "      <td>Ростов-На-Дону</td>\n",
       "      <td>[Ростов-на-Дону]</td>\n",
       "    </tr>\n",
       "    <tr>\n",
       "      <th>5425</th>\n",
       "      <td>ростов-на-Дону</td>\n",
       "      <td>Ростов-На-Дону</td>\n",
       "      <td>[Ростов-на-Дону]</td>\n",
       "    </tr>\n",
       "    <tr>\n",
       "      <th>5426</th>\n",
       "      <td>ростов-на-дону</td>\n",
       "      <td>Ростов-На-Дону</td>\n",
       "      <td>[Ростов-на-Дону]</td>\n",
       "    </tr>\n",
       "  </tbody>\n",
       "</table>\n",
       "</div>"
      ],
      "text/plain": [
       "                               city_clear        ru_names     ru_names_list\n",
       "3285                       РОСТОВ-НА-ДОНУ  Ростов-На-Дону  [Ростов-на-Дону]\n",
       "3379                        Росто-на-Дону  Ростов-На-Дону  [Ростов-на-Дону]\n",
       "3395                       Ростов-На-Дону  Ростов-На-Дону  [Ростов-на-Дону]\n",
       "3400                      Ростов-на-Догну  Ростов-На-Дону  [Ростов-на-Дону]\n",
       "3401                       Ростов-на-Дону  Ростов-На-Дону  [Ростов-на-Дону]\n",
       "3405  Ростов-на-Дону (Ростовская область)  Ростов-На-Дону  [Ростов-на-Дону]\n",
       "3407                    Ростов-на-Дону г.  Ростов-На-Дону  [Ростов-на-Дону]\n",
       "3410                       Ростов-на-Дрну  Ростов-На-Дону  [Ростов-на-Дону]\n",
       "3411                       Ростов-на-дону  Ростов-На-Дону  [Ростов-на-Дону]\n",
       "3428                        Ротов-на-Дону  Ростов-На-Дону  [Ростов-на-Дону]\n",
       "5213                        остов-на-Дону  Ростов-На-Дону  [Ростов-на-Дону]\n",
       "5420                        росто-на-дону  Ростов-На-Дону  [Ростов-на-Дону]\n",
       "5425                       ростов-на-Дону  Ростов-На-Дону  [Ростов-на-Дону]\n",
       "5426                       ростов-на-дону  Ростов-На-Дону  [Ростов-на-Дону]"
      ]
     },
     "execution_count": 340,
     "metadata": {},
     "output_type": "execute_result"
    }
   ],
   "source": [
    "df_names[df_names['ru_names']== 'Ростов-На-Дону'] "
   ]
  },
  {
   "cell_type": "code",
   "execution_count": 341,
   "metadata": {},
   "outputs": [],
   "source": [
    "df_names['ru_names_list'][0]\n",
    "city_clear_dict = df_names[['city_clear','ru_names_list']].set_index('city_clear').T.to_dict('list')"
   ]
  },
  {
   "cell_type": "markdown",
   "metadata": {},
   "source": [
    "#### Подстановка найденных значений в начальный датасет"
   ]
  },
  {
   "cell_type": "code",
   "execution_count": 343,
   "metadata": {},
   "outputs": [],
   "source": [
    "train['city_clear_list'] = train.apply(lambda raw: repl_to_list(raw['city_clear'], city_clear_dict), axis = 1)"
   ]
  },
  {
   "cell_type": "code",
   "execution_count": 344,
   "metadata": {},
   "outputs": [
    {
     "data": {
      "text/html": [
       "<div>\n",
       "<style scoped>\n",
       "    .dataframe tbody tr th:only-of-type {\n",
       "        vertical-align: middle;\n",
       "    }\n",
       "\n",
       "    .dataframe tbody tr th {\n",
       "        vertical-align: top;\n",
       "    }\n",
       "\n",
       "    .dataframe thead th {\n",
       "        text-align: right;\n",
       "    }\n",
       "</style>\n",
       "<table border=\"1\" class=\"dataframe\">\n",
       "  <thead>\n",
       "    <tr style=\"text-align: right;\">\n",
       "      <th></th>\n",
       "      <th>city</th>\n",
       "      <th>rating_not_checked</th>\n",
       "      <th>title</th>\n",
       "      <th>num_comments</th>\n",
       "      <th>bank_license</th>\n",
       "      <th>author</th>\n",
       "      <th>bank_name</th>\n",
       "      <th>datetime</th>\n",
       "      <th>text</th>\n",
       "      <th>rating_grade</th>\n",
       "      <th>city_clear</th>\n",
       "      <th>city_clear_list</th>\n",
       "    </tr>\n",
       "  </thead>\n",
       "  <tbody>\n",
       "    <tr>\n",
       "      <th>0</th>\n",
       "      <td>г. Москва</td>\n",
       "      <td>False</td>\n",
       "      <td>Жалоба</td>\n",
       "      <td>0</td>\n",
       "      <td>лицензия № 2562</td>\n",
       "      <td>uhnov1</td>\n",
       "      <td>Бинбанк</td>\n",
       "      <td>2015-06-08 12:50:54</td>\n",
       "      <td>Добрый день! Я не являюсь клиентом банка и пор...</td>\n",
       "      <td>NaN</td>\n",
       "      <td>Москва</td>\n",
       "      <td>[Москва]</td>\n",
       "    </tr>\n",
       "    <tr>\n",
       "      <th>1</th>\n",
       "      <td>г. Новосибирск</td>\n",
       "      <td>False</td>\n",
       "      <td>Не могу пользоваться услугой Сбербанк он-лайн</td>\n",
       "      <td>0</td>\n",
       "      <td>лицензия № 1481</td>\n",
       "      <td>Foryou</td>\n",
       "      <td>Сбербанк России</td>\n",
       "      <td>2015-06-08 11:09:57</td>\n",
       "      <td>Доброго дня! Являюсь держателем зарплатной кар...</td>\n",
       "      <td>NaN</td>\n",
       "      <td>Новосибирск</td>\n",
       "      <td>[Новосибирск]</td>\n",
       "    </tr>\n",
       "    <tr>\n",
       "      <th>2</th>\n",
       "      <td>г. Москва</td>\n",
       "      <td>False</td>\n",
       "      <td>Двойное списание за один товар.</td>\n",
       "      <td>1</td>\n",
       "      <td>лицензия № 2562</td>\n",
       "      <td>Vladimir84</td>\n",
       "      <td>Бинбанк</td>\n",
       "      <td>2015-06-05 20:14:28</td>\n",
       "      <td>Здравствуйте!  Дублирую свое заявление от 03.0...</td>\n",
       "      <td>NaN</td>\n",
       "      <td>Москва</td>\n",
       "      <td>[Москва]</td>\n",
       "    </tr>\n",
       "    <tr>\n",
       "      <th>3</th>\n",
       "      <td>г. Ставрополь</td>\n",
       "      <td>False</td>\n",
       "      <td>Меняют проценты комиссии  не предупредив и не ...</td>\n",
       "      <td>2</td>\n",
       "      <td>лицензия № 1481</td>\n",
       "      <td>643609</td>\n",
       "      <td>Сбербанк России</td>\n",
       "      <td>2015-06-05 13:51:01</td>\n",
       "      <td>Добрый день!! Я открыл расчетный счет в СберБа...</td>\n",
       "      <td>NaN</td>\n",
       "      <td>Ставрополь</td>\n",
       "      <td>[Ставрополь]</td>\n",
       "    </tr>\n",
       "    <tr>\n",
       "      <th>4</th>\n",
       "      <td>г. Челябинск</td>\n",
       "      <td>False</td>\n",
       "      <td>Верните денежные средства за страховку</td>\n",
       "      <td>1</td>\n",
       "      <td>лицензия № 2766</td>\n",
       "      <td>anfisa-2003</td>\n",
       "      <td>ОТП Банк</td>\n",
       "      <td>2015-06-05 10:58:12</td>\n",
       "      <td>04.03.2015 г. взяла кредит в вашем банке, заяв...</td>\n",
       "      <td>NaN</td>\n",
       "      <td>Челябинск</td>\n",
       "      <td>[Челябинск]</td>\n",
       "    </tr>\n",
       "    <tr>\n",
       "      <th>5</th>\n",
       "      <td>г. Москва</td>\n",
       "      <td>False</td>\n",
       "      <td>Не тут-то было...</td>\n",
       "      <td>0</td>\n",
       "      <td>лицензия № 606</td>\n",
       "      <td>bankir76</td>\n",
       "      <td>Гагаринский</td>\n",
       "      <td>2015-06-05 11:37:31</td>\n",
       "      <td>Я, как и многие вкладчики открыл на 1000 руб. ...</td>\n",
       "      <td>NaN</td>\n",
       "      <td>Москва</td>\n",
       "      <td>[Москва]</td>\n",
       "    </tr>\n",
       "    <tr>\n",
       "      <th>6</th>\n",
       "      <td>г. Волгоград</td>\n",
       "      <td>False</td>\n",
       "      <td>Получение УЭК</td>\n",
       "      <td>0</td>\n",
       "      <td>лицензия № 1481</td>\n",
       "      <td>N0mikom</td>\n",
       "      <td>Сбербанк России</td>\n",
       "      <td>2015-06-05 11:57:51</td>\n",
       "      <td>Здравствуйте!  Подал заявление на получение УЭ...</td>\n",
       "      <td>NaN</td>\n",
       "      <td>Волгоград</td>\n",
       "      <td>[Волгоград]</td>\n",
       "    </tr>\n",
       "    <tr>\n",
       "      <th>7</th>\n",
       "      <td>г. Москва</td>\n",
       "      <td>False</td>\n",
       "      <td>Вот так поворот!</td>\n",
       "      <td>0</td>\n",
       "      <td>лицензия № 2673</td>\n",
       "      <td>Altairseg</td>\n",
       "      <td>Тинькофф Банк</td>\n",
       "      <td>2015-06-05 11:59:01</td>\n",
       "      <td>Был крайне удивлён новостью от 27/28 мая - об ...</td>\n",
       "      <td>NaN</td>\n",
       "      <td>Москва</td>\n",
       "      <td>[Москва]</td>\n",
       "    </tr>\n",
       "    <tr>\n",
       "      <th>8</th>\n",
       "      <td>г. Пермь</td>\n",
       "      <td>False</td>\n",
       "      <td>О разглашении персональных данных</td>\n",
       "      <td>0</td>\n",
       "      <td>лицензия № 1460</td>\n",
       "      <td>svetlana198</td>\n",
       "      <td>Восточный Экспресс Банк</td>\n",
       "      <td>2015-06-05 12:08:21</td>\n",
       "      <td>Сотрудники банка Восточный систематически сооб...</td>\n",
       "      <td>NaN</td>\n",
       "      <td>Пермь</td>\n",
       "      <td>[Пермь]</td>\n",
       "    </tr>\n",
       "    <tr>\n",
       "      <th>9</th>\n",
       "      <td>г. Ростов-на-Дону</td>\n",
       "      <td>False</td>\n",
       "      <td>Прошу о помощи</td>\n",
       "      <td>2</td>\n",
       "      <td>лицензия № 1623</td>\n",
       "      <td>Daria88</td>\n",
       "      <td>ВТБ 24</td>\n",
       "      <td>2015-06-05 12:18:22</td>\n",
       "      <td>Добрый день! Являюсь заемщиком в Банке ВТБ 24....</td>\n",
       "      <td>NaN</td>\n",
       "      <td>Ростов-на-Дону</td>\n",
       "      <td>[Ростов-на-Дону]</td>\n",
       "    </tr>\n",
       "  </tbody>\n",
       "</table>\n",
       "</div>"
      ],
      "text/plain": [
       "                city  rating_not_checked  \\\n",
       "0          г. Москва               False   \n",
       "1     г. Новосибирск               False   \n",
       "2          г. Москва               False   \n",
       "3      г. Ставрополь               False   \n",
       "4       г. Челябинск               False   \n",
       "5          г. Москва               False   \n",
       "6       г. Волгоград               False   \n",
       "7          г. Москва               False   \n",
       "8           г. Пермь               False   \n",
       "9  г. Ростов-на-Дону               False   \n",
       "\n",
       "                                               title  num_comments  \\\n",
       "0                                             Жалоба             0   \n",
       "1      Не могу пользоваться услугой Сбербанк он-лайн             0   \n",
       "2                    Двойное списание за один товар.             1   \n",
       "3  Меняют проценты комиссии  не предупредив и не ...             2   \n",
       "4             Верните денежные средства за страховку             1   \n",
       "5                                  Не тут-то было...             0   \n",
       "6                                      Получение УЭК             0   \n",
       "7                                   Вот так поворот!             0   \n",
       "8                  О разглашении персональных данных             0   \n",
       "9                                     Прошу о помощи             2   \n",
       "\n",
       "      bank_license       author                bank_name             datetime  \\\n",
       "0  лицензия № 2562       uhnov1                  Бинбанк  2015-06-08 12:50:54   \n",
       "1  лицензия № 1481       Foryou          Сбербанк России  2015-06-08 11:09:57   \n",
       "2  лицензия № 2562   Vladimir84                  Бинбанк  2015-06-05 20:14:28   \n",
       "3  лицензия № 1481       643609          Сбербанк России  2015-06-05 13:51:01   \n",
       "4  лицензия № 2766  anfisa-2003                 ОТП Банк  2015-06-05 10:58:12   \n",
       "5   лицензия № 606     bankir76              Гагаринский  2015-06-05 11:37:31   \n",
       "6  лицензия № 1481      N0mikom          Сбербанк России  2015-06-05 11:57:51   \n",
       "7  лицензия № 2673    Altairseg            Тинькофф Банк  2015-06-05 11:59:01   \n",
       "8  лицензия № 1460  svetlana198  Восточный Экспресс Банк  2015-06-05 12:08:21   \n",
       "9  лицензия № 1623      Daria88                   ВТБ 24  2015-06-05 12:18:22   \n",
       "\n",
       "                                                text  rating_grade  \\\n",
       "0  Добрый день! Я не являюсь клиентом банка и пор...           NaN   \n",
       "1  Доброго дня! Являюсь держателем зарплатной кар...           NaN   \n",
       "2  Здравствуйте!  Дублирую свое заявление от 03.0...           NaN   \n",
       "3  Добрый день!! Я открыл расчетный счет в СберБа...           NaN   \n",
       "4  04.03.2015 г. взяла кредит в вашем банке, заяв...           NaN   \n",
       "5  Я, как и многие вкладчики открыл на 1000 руб. ...           NaN   \n",
       "6  Здравствуйте!  Подал заявление на получение УЭ...           NaN   \n",
       "7  Был крайне удивлён новостью от 27/28 мая - об ...           NaN   \n",
       "8  Сотрудники банка Восточный систематически сооб...           NaN   \n",
       "9  Добрый день! Являюсь заемщиком в Банке ВТБ 24....           NaN   \n",
       "\n",
       "       city_clear   city_clear_list  \n",
       "0          Москва          [Москва]  \n",
       "1     Новосибирск     [Новосибирск]  \n",
       "2          Москва          [Москва]  \n",
       "3      Ставрополь      [Ставрополь]  \n",
       "4       Челябинск       [Челябинск]  \n",
       "5          Москва          [Москва]  \n",
       "6       Волгоград       [Волгоград]  \n",
       "7          Москва          [Москва]  \n",
       "8           Пермь           [Пермь]  \n",
       "9  Ростов-на-Дону  [Ростов-на-Дону]  "
      ]
     },
     "execution_count": 344,
     "metadata": {},
     "output_type": "execute_result"
    }
   ],
   "source": [
    "train.head(10)"
   ]
  },
  {
   "cell_type": "code",
   "execution_count": 360,
   "metadata": {},
   "outputs": [],
   "source": [
    "def count_towns(town_list, town_dict):\n",
    "    try:\n",
    "        for town in town_list:\n",
    "            town_dict[town] +=1\n",
    "    except:\n",
    "        return"
   ]
  },
  {
   "cell_type": "code",
   "execution_count": 347,
   "metadata": {},
   "outputs": [
    {
     "data": {
      "text/plain": [
       "True"
      ]
     },
     "execution_count": 347,
     "metadata": {},
     "output_type": "execute_result"
    }
   ],
   "source": [
    "flat_list = [item for sublist in ru_names_list for item in sublist]\n",
    "flat_town_set = [ x for x  in list(set(flat_list))] \n",
    "'Москва' in flat_town_set"
   ]
  },
  {
   "cell_type": "code",
   "execution_count": 361,
   "metadata": {},
   "outputs": [],
   "source": [
    "dict_towm_count = dict((key, 0) for key in flat_town_set)\n",
    "for raw in train['city_clear_list']:\n",
    "    count_towns(raw, dict_towm_count)"
   ]
  },
  {
   "cell_type": "markdown",
   "metadata": {},
   "source": [
    "#### Подсчёт количества отзывов по городам (первые 20)"
   ]
  },
  {
   "cell_type": "code",
   "execution_count": 384,
   "metadata": {},
   "outputs": [
    {
     "name": "stdout",
     "output_type": "stream",
     "text": [
      "Топ 20 городов в табице по количеству отзывов\n",
      "Москва: 57798 \n",
      "Санкт-Петербург: 15527 \n",
      "Новосибирск: 2442 \n",
      "Екатеринбург: 2424 \n",
      "Нижний Новгород: 2103 \n",
      "Ростов-на-Дону: 1986 \n",
      "Самара: 1833 \n",
      "Челябинск: 1582 \n",
      "Казань: 1553 \n",
      "Уфа: 1354 \n",
      "Краснодар: 1350 \n",
      "Красноярск: 1284 \n",
      "Воронеж: 1261 \n",
      "Пермь: 1215 \n",
      "Омск: 1082 \n",
      "Волгоград: 1079 \n",
      "Саратов: 993 \n",
      "Иркутск: 791 \n",
      "Калининград: 789 \n",
      "Хабаровск: 725 \n"
     ]
    }
   ],
   "source": [
    "top_n = 20\n",
    "town_sorted = {k: v for k, v in sorted(dict_towm_count.items(), key=lambda item: item[1], reverse=True)}\n",
    "town_sorted_list = list(town_sorted.keys())\n",
    "print(f'Топ {top_n} городов в табице по количеству отзывов')\n",
    "for town in town_sorted_list[:top_n]:\n",
    "    print(f'{town}: {town_sorted[town]} ')"
   ]
  },
  {
   "cell_type": "markdown",
   "metadata": {},
   "source": [
    "## Подсчёт количества отзывов по банкам было решено использовать номера банковских лицензий. Этот варинат показался более стабильным к неверному написанию названия банка"
   ]
  },
  {
   "cell_type": "code",
   "execution_count": 113,
   "metadata": {},
   "outputs": [],
   "source": [
    "bank_name = train['bank_name'].unique()"
   ]
  },
  {
   "cell_type": "code",
   "execution_count": 239,
   "metadata": {},
   "outputs": [
    {
     "data": {
      "text/html": [
       "<div>\n",
       "<style scoped>\n",
       "    .dataframe tbody tr th:only-of-type {\n",
       "        vertical-align: middle;\n",
       "    }\n",
       "\n",
       "    .dataframe tbody tr th {\n",
       "        vertical-align: top;\n",
       "    }\n",
       "\n",
       "    .dataframe thead th {\n",
       "        text-align: right;\n",
       "    }\n",
       "</style>\n",
       "<table border=\"1\" class=\"dataframe\">\n",
       "  <thead>\n",
       "    <tr style=\"text-align: right;\">\n",
       "      <th></th>\n",
       "      <th>city</th>\n",
       "      <th>rating_not_checked</th>\n",
       "      <th>title</th>\n",
       "      <th>num_comments</th>\n",
       "      <th>bank_license</th>\n",
       "      <th>author</th>\n",
       "      <th>bank_name</th>\n",
       "      <th>datetime</th>\n",
       "      <th>text</th>\n",
       "      <th>rating_grade</th>\n",
       "    </tr>\n",
       "  </thead>\n",
       "  <tbody>\n",
       "    <tr>\n",
       "      <th>0</th>\n",
       "      <td>г. Москва</td>\n",
       "      <td>False</td>\n",
       "      <td>Жалоба</td>\n",
       "      <td>0</td>\n",
       "      <td>лицензия № 2562</td>\n",
       "      <td>uhnov1</td>\n",
       "      <td>Бинбанк</td>\n",
       "      <td>2015-06-08 12:50:54</td>\n",
       "      <td>Добрый день! Я не являюсь клиентом банка и пор...</td>\n",
       "      <td>NaN</td>\n",
       "    </tr>\n",
       "    <tr>\n",
       "      <th>1</th>\n",
       "      <td>г. Новосибирск</td>\n",
       "      <td>False</td>\n",
       "      <td>Не могу пользоваться услугой Сбербанк он-лайн</td>\n",
       "      <td>0</td>\n",
       "      <td>лицензия № 1481</td>\n",
       "      <td>Foryou</td>\n",
       "      <td>Сбербанк России</td>\n",
       "      <td>2015-06-08 11:09:57</td>\n",
       "      <td>Доброго дня! Являюсь держателем зарплатной кар...</td>\n",
       "      <td>NaN</td>\n",
       "    </tr>\n",
       "    <tr>\n",
       "      <th>2</th>\n",
       "      <td>г. Москва</td>\n",
       "      <td>False</td>\n",
       "      <td>Двойное списание за один товар.</td>\n",
       "      <td>1</td>\n",
       "      <td>лицензия № 2562</td>\n",
       "      <td>Vladimir84</td>\n",
       "      <td>Бинбанк</td>\n",
       "      <td>2015-06-05 20:14:28</td>\n",
       "      <td>Здравствуйте!  Дублирую свое заявление от 03.0...</td>\n",
       "      <td>NaN</td>\n",
       "    </tr>\n",
       "    <tr>\n",
       "      <th>3</th>\n",
       "      <td>г. Ставрополь</td>\n",
       "      <td>False</td>\n",
       "      <td>Меняют проценты комиссии  не предупредив и не ...</td>\n",
       "      <td>2</td>\n",
       "      <td>лицензия № 1481</td>\n",
       "      <td>643609</td>\n",
       "      <td>Сбербанк России</td>\n",
       "      <td>2015-06-05 13:51:01</td>\n",
       "      <td>Добрый день!! Я открыл расчетный счет в СберБа...</td>\n",
       "      <td>NaN</td>\n",
       "    </tr>\n",
       "    <tr>\n",
       "      <th>4</th>\n",
       "      <td>г. Челябинск</td>\n",
       "      <td>False</td>\n",
       "      <td>Верните денежные средства за страховку</td>\n",
       "      <td>1</td>\n",
       "      <td>лицензия № 2766</td>\n",
       "      <td>anfisa-2003</td>\n",
       "      <td>ОТП Банк</td>\n",
       "      <td>2015-06-05 10:58:12</td>\n",
       "      <td>04.03.2015 г. взяла кредит в вашем банке, заяв...</td>\n",
       "      <td>NaN</td>\n",
       "    </tr>\n",
       "  </tbody>\n",
       "</table>\n",
       "</div>"
      ],
      "text/plain": [
       "             city  rating_not_checked  \\\n",
       "0       г. Москва               False   \n",
       "1  г. Новосибирск               False   \n",
       "2       г. Москва               False   \n",
       "3   г. Ставрополь               False   \n",
       "4    г. Челябинск               False   \n",
       "\n",
       "                                               title  num_comments  \\\n",
       "0                                             Жалоба             0   \n",
       "1      Не могу пользоваться услугой Сбербанк он-лайн             0   \n",
       "2                    Двойное списание за один товар.             1   \n",
       "3  Меняют проценты комиссии  не предупредив и не ...             2   \n",
       "4             Верните денежные средства за страховку             1   \n",
       "\n",
       "      bank_license       author        bank_name             datetime  \\\n",
       "0  лицензия № 2562       uhnov1          Бинбанк  2015-06-08 12:50:54   \n",
       "1  лицензия № 1481       Foryou  Сбербанк России  2015-06-08 11:09:57   \n",
       "2  лицензия № 2562   Vladimir84          Бинбанк  2015-06-05 20:14:28   \n",
       "3  лицензия № 1481       643609  Сбербанк России  2015-06-05 13:51:01   \n",
       "4  лицензия № 2766  anfisa-2003         ОТП Банк  2015-06-05 10:58:12   \n",
       "\n",
       "                                                text  rating_grade  \n",
       "0  Добрый день! Я не являюсь клиентом банка и пор...           NaN  \n",
       "1  Доброго дня! Являюсь держателем зарплатной кар...           NaN  \n",
       "2  Здравствуйте!  Дублирую свое заявление от 03.0...           NaN  \n",
       "3  Добрый день!! Я открыл расчетный счет в СберБа...           NaN  \n",
       "4  04.03.2015 г. взяла кредит в вашем банке, заяв...           NaN  "
      ]
     },
     "execution_count": 239,
     "metadata": {},
     "output_type": "execute_result"
    }
   ],
   "source": [
    "train.head()"
   ]
  },
  {
   "cell_type": "markdown",
   "metadata": {},
   "source": [
    "#### Подсчёт количества отзывов по банкам "
   ]
  },
  {
   "cell_type": "code",
   "execution_count": 386,
   "metadata": {},
   "outputs": [
    {
     "name": "stdout",
     "output_type": "stream",
     "text": [
      "Топ 20 банков (по номеру лицензии) в табице по количеству отзывов\n",
      "лицензия № 1481    26327\n",
      "лицензия № 1326    10224\n",
      "лицензия № 1623     8185\n",
      "лицензия № 2289     7943\n",
      "лицензия № 316      7549\n",
      "лицензия № 2673     5387\n",
      "лицензия № 3279     4607\n",
      "лицензия № 3354     3849\n",
      "лицензия № 1961     3775\n",
      "лицензия № 2766     3237\n",
      "лицензия № 1460     3138\n",
      "лицензия № 3292     3057\n",
      "лицензия № 1978     2944\n",
      "лицензия № 2557     2848\n",
      "лицензия № 2879     2733\n",
      "лицензия № 3251     2586\n",
      "лицензия № 1        2488\n",
      "лицензия № 2748     2456\n",
      "лицензия № 1971     2158\n",
      "лицензия № 2268     1870\n",
      "Name: bank_license, dtype: int64\n"
     ]
    }
   ],
   "source": [
    "print(f'Топ {top_n} банков (по номеру лицензии) в табице по количеству отзывов')\n",
    "print(train['bank_license'].value_counts()[:top_n])"
   ]
  },
  {
   "cell_type": "code",
   "execution_count": null,
   "metadata": {},
   "outputs": [],
   "source": []
  },
  {
   "cell_type": "markdown",
   "metadata": {},
   "source": [
    "## 2. Постройте гистограмы длин слов в символах и в словах\n"
   ]
  },
  {
   "cell_type": "code",
   "execution_count": 36,
   "metadata": {},
   "outputs": [],
   "source": [
    "\n",
    "\n",
    "import matplotlib.pyplot as plt\n",
    "import numpy as np \n"
   ]
  },
  {
   "cell_type": "markdown",
   "metadata": {},
   "source": [
    "#### Длины текстов (в словах)\n"
   ]
  },
  {
   "cell_type": "code",
   "execution_count": 35,
   "metadata": {},
   "outputs": [
    {
     "name": "stderr",
     "output_type": "stream",
     "text": [
      "/home/vvs/anaconda3/lib/python3.7/site-packages/ipykernel_launcher.py:9: UserWarning: Matplotlib is currently using module://ipykernel.pylab.backend_inline, which is a non-GUI backend, so cannot show the figure.\n",
      "  if __name__ == '__main__':\n"
     ]
    },
    {
     "data": {
      "image/png": "[encoded data removed]",
      "text/plain": [
       "<Figure size 432x288 with 1 Axes>"
      ]
     },
     "metadata": {
      "needs_background": "light"
     },
     "output_type": "display_data"
    }
   ],
   "source": [
    "len__n_words = train.text.apply(lambda string_t: len(string_t.split()))\n",
    "\n",
    "fig, ax = plt.subplots()\n",
    "\n",
    "length = len__n_words.tolist()\n",
    "\n",
    "n, bins, patches = ax.hist(length,bins=100)\n",
    "\n",
    "fig.show()"
   ]
  },
  {
   "cell_type": "markdown",
   "metadata": {},
   "source": [
    "#### Длины текстов (в символах)\n"
   ]
  },
  {
   "cell_type": "code",
   "execution_count": 13,
   "metadata": {},
   "outputs": [
    {
     "name": "stderr",
     "output_type": "stream",
     "text": [
      "/home/vvs/anaconda3/lib/python3.7/site-packages/ipykernel_launcher.py:9: UserWarning: Matplotlib is currently using module://ipykernel.pylab.backend_inline, which is a non-GUI backend, so cannot show the figure.\n",
      "  if __name__ == '__main__':\n"
     ]
    },
    {
     "data": {
      "image/png": "[encoded data removed]",
      "text/plain": [
       "<Figure size 432x288 with 1 Axes>"
      ]
     },
     "metadata": {
      "needs_background": "light"
     },
     "output_type": "display_data"
    }
   ],
   "source": [
    "len_data = train.text.apply(len)\n",
    "\n",
    "fig, ax = plt.subplots()\n",
    "\n",
    "length = len_data.tolist()\n",
    "\n",
    "n, bins, patches = ax.hist(length,bins=100)\n",
    "\n",
    "fig.show()"
   ]
  },
  {
   "cell_type": "markdown",
   "metadata": {},
   "source": [
    "## Найдите 10 самых частых:\n",
    "    * слов\n",
    "    * слов без стоп-слов\n",
    "    * лемм \n",
    "    * существительных\n"
   ]
  },
  {
   "cell_type": "markdown",
   "metadata": {},
   "source": [
    "#### Найденные 10 самых частых слов без стоп-слов\n",
    "    "
   ]
  },
  {
   "cell_type": "code",
   "execution_count": 104,
   "metadata": {},
   "outputs": [
    {
     "name": "stderr",
     "output_type": "stream",
     "text": [
      "/home/vvs/anaconda3/lib/python3.7/site-packages/ipykernel_launcher.py:11: TqdmDeprecationWarning: This function will be removed in tqdm==5.0.0\n",
      "Please use `tqdm.notebook.tqdm` instead of `tqdm.tqdm_notebook`\n",
      "  # This is added back by InteractiveShellApp.init_path()\n"
     ]
    },
    {
     "data": {
      "application/vnd.jupyter.widget-view+json": {
       "model_id": "9eecdec62b70469e80617d42ee0e22b9",
       "version_major": 2,
       "version_minor": 0
      },
      "text/plain": [
       "HBox(children=(FloatProgress(value=0.0, max=153499.0), HTML(value='')))"
      ]
     },
     "metadata": {},
     "output_type": "display_data"
    },
    {
     "name": "stderr",
     "output_type": "stream",
     "text": [
      "/home/vvs/anaconda3/lib/python3.7/site-packages/ipykernel_launcher.py:16: DeprecationWarning: Calling np.sum(generator) is deprecated, and in the future will give a different result. Use np.sum(np.fromiter(generator)) or the python sum builtin instead.\n",
      "  app.launch_new_instance()\n"
     ]
    },
    {
     "name": "stdout",
     "output_type": "stream",
     "text": [
      "\n",
      "Топ 10 слов без стоп-слов\n",
      "('в', 1157262)\n",
      "('и', 965735)\n",
      "('не', 808409)\n",
      "('на', 632541)\n",
      "('что', 586864)\n",
      "('я', 427944)\n",
      "('с', 423586)\n",
      "('по', 333342)\n",
      "('-', 294086)\n",
      "('мне', 277035)\n"
     ]
    }
   ],
   "source": [
    "from collections import Counter\n",
    "from tqdm import tqdm_notebook as tqdm\n",
    "\n",
    "top = 10\n",
    "\n",
    "\n",
    "cnt = Counter()\n",
    "n_types = []\n",
    "n_tokens = []\n",
    "tokens = []\n",
    "for index, row in tqdm(train.iterrows(), total = len(train)):\n",
    "    tokens = row['text'].split()\n",
    "    cnt.update(tokens)\n",
    "    n_types.append(len(cnt))\n",
    "#     n_tokens.append(sum(list(cnt.values())))\n",
    "    n_tokens.append(sum(value for value in cnt.values()))\n",
    "#     print(n_types,n_tokens)\n",
    "#     break\n",
    "\n",
    "print(f'Топ {top} слов без стоп-слов')\n",
    "for i in cnt.most_common(top):\n",
    "    print(i)"
   ]
  },
  {
   "cell_type": "code",
   "execution_count": 99,
   "metadata": {},
   "outputs": [],
   "source": [
    "stop_words_russian = [\"и\", \"в\", \"во\",  \"что\", \"он\", \"на\", \"я\", \"с\", \"со\", \"как\", \"а\", \"то\", \"все\", \"она\", \"так\", \n",
    "                      \"его\", \"но\", \"да\", \"ты\", \"к\", \"у\", \"же\", \"вы\", \"за\", \"бы\", \"по\", \"только\", \"ее\", \"мне\", \"было\", \n",
    "                      \"вот\", \"от\", \"меня\", \"еще\", \"о\", \"из\", \"ему\", \"теперь\", \"когда\", \"даже\", \"ну\", \"вдруг\", \n",
    "                      \"ли\", \"если\", \"уже\", \"или\", \"ни\", \"быть\", \"был\", \"него\", \"до\", \"вас\", \"нибудь\", \"опять\", \"уж\", \n",
    "                      \"вам\", \"ведь\", \"там\", \"потом\", \"себя\", \"ничего\", \"ей\", \"может\", \"они\", \"тут\", \"где\", \"есть\", \"надо\", \n",
    "                      \"ней\", \"для\", \"мы\", \"тебя\", \"их\", \"чем\", \"была\", \"сам\", \"чтоб\", \"без\", \"будто\", \"чего\", \"раз\", \n",
    "                      \"тоже\", \"себе\", \"под\", \"будет\", \"ж\", \"тогда\", \"кто\", \"этот\", \"того\", \"потому\", \"этого\", \"какой\", \n",
    "                      \"совсем\", \"ним\", \"здесь\", \"этом\", \"один\", \"почти\", \"мой\", \"тем\", \"чтобы\", \"нее\", \"сейчас\", \"были\", \n",
    "                      \"куда\", \"зачем\", \"всех\", \"никогда\", \"можно\", \"при\", \"наконец\", \"два\", \"об\", \"другой\", \"хоть\", \"после\", \n",
    "                      \"над\", \"больше\", \"тот\", \"через\", \"эти\", \"нас\", \"про\", \"всего\", \"них\", \"какая\", \"много\", \"разве\", \"три\", \n",
    "                      \"эту\", \"моя\", \"впрочем\", \"хорошо\", \"свою\", \"этой\", \"перед\", \"иногда\", \"лучше\", \"чуть\", \"том\", \"нельзя\", \n",
    "                      \"такой\", \"им\", \"более\", \"всегда\", \"конечно\", \"всю\", \"между\", \"при\", \"однако\", \"это\", \"всё\", \"весь\",\n",
    "                      \"обо\", \"ваш\" , \" \" , \"  \", \" - \", \"-\", \"   \"]"
   ]
  },
  {
   "cell_type": "markdown",
   "metadata": {},
   "source": [
    "#### найденные 10 самых частых слов со стоп-словами\n",
    "    "
   ]
  },
  {
   "cell_type": "code",
   "execution_count": 100,
   "metadata": {},
   "outputs": [
    {
     "name": "stderr",
     "output_type": "stream",
     "text": [
      "/home/vvs/anaconda3/lib/python3.7/site-packages/ipykernel_launcher.py:8: TqdmDeprecationWarning: This function will be removed in tqdm==5.0.0\n",
      "Please use `tqdm.notebook.tqdm` instead of `tqdm.tqdm_notebook`\n",
      "  \n"
     ]
    },
    {
     "data": {
      "application/vnd.jupyter.widget-view+json": {
       "model_id": "8d06f61c7ba04fbdb30b03756c5072e7",
       "version_major": 2,
       "version_minor": 0
      },
      "text/plain": [
       "HBox(children=(FloatProgress(value=0.0, max=153499.0), HTML(value='')))"
      ]
     },
     "metadata": {},
     "output_type": "display_data"
    },
    {
     "name": "stdout",
     "output_type": "stream",
     "text": [
      "\n",
      "Топ 10 слов со стоп-словами\n",
      "('не', 841941)\n",
      "('банка', 160550)\n",
      "('банк', 134069)\n",
      "('банка ', 102056)\n",
      "('деньги', 96154)\n",
      "('карту', 66651)\n",
      "('карты', 64616)\n",
      "('очень', 64613)\n",
      "('банк ', 56543)\n",
      "('заявление', 53267)\n"
     ]
    }
   ],
   "source": [
    "\n",
    "top = 10\n",
    "\n",
    "\n",
    "cnt_stop = Counter()\n",
    "n_types_stop = []\n",
    "n_tokens_stop = []\n",
    "tokens = []\n",
    "for index, row in tqdm(train.iterrows(), total = len(train)):\n",
    "    tokens = [re_del_spec.sub(\" \", word.lower()) for word in row['text'].split()]\n",
    "    tokens_stop = [word for word in tokens if word not in  stop_words_russian]\n",
    "    cnt_stop.update(tokens_stop)\n",
    "#     n_types_stop.append(len(cnt_stop))\n",
    "#     n_tokens_stop.append(sum(value for value in cnt_stop.values()))\n",
    "\n",
    "print(f'Топ {top} слов со стоп-словами')\n",
    "for i in cnt_stop.most_common(top):\n",
    "    print(i)"
   ]
  },
  {
   "cell_type": "code",
   "execution_count": 101,
   "metadata": {},
   "outputs": [
    {
     "name": "stderr",
     "output_type": "stream",
     "text": [
      "/home/vvs/anaconda3/lib/python3.7/site-packages/ipykernel_launcher.py:14: TqdmDeprecationWarning: This function will be removed in tqdm==5.0.0\n",
      "Please use `tqdm.notebook.tqdm` instead of `tqdm.tqdm_notebook`\n",
      "  \n"
     ]
    },
    {
     "data": {
      "application/vnd.jupyter.widget-view+json": {
       "model_id": "2b08a2f945564124b3df8d3b46633cb4",
       "version_major": 2,
       "version_minor": 0
      },
      "text/plain": [
       "HBox(children=(FloatProgress(value=0.0, max=153499.0), HTML(value='')))"
      ]
     },
     "metadata": {},
     "output_type": "display_data"
    },
    {
     "name": "stdout",
     "output_type": "stream",
     "text": [
      "\n"
     ]
    }
   ],
   "source": [
    "\n",
    "from pymystem3 import Mystem\n",
    "\n",
    "mystem = Mystem()\n",
    "# lemmas2 = mystem.lemmatize(sent1)\n",
    "# print(''.join(lemmas2))\n",
    "\n",
    "\n",
    "top = 10\n",
    "\n",
    "cnt_clear = Counter()\n",
    "n_types_clear = []\n",
    "n_tokens_clear = []\n",
    "tokens = []\n",
    "for index, row in tqdm(train.iterrows(), total = len(train)):\n",
    "    lemmas =  mystem.lemmatize(row['text'])\n",
    "    tokens = [re_del_spec.sub(\" \", word.lower()) for word in lemmas] \n",
    "    cleared_tokens = [word for word in tokens if word not in  stop_words_russian]\n",
    "    cnt_clear.update(cleared_tokens)\n",
    "#     n_types_clear.append(len(cnt_clear))\n",
    "#     n_tokens_clear.append(sum(list(cnt_clear.values())))\n",
    "\n"
   ]
  },
  {
   "cell_type": "markdown",
   "metadata": {},
   "source": [
    "#### Найденные 10 самых частых лемм со стоп-словами\n",
    "    "
   ]
  },
  {
   "cell_type": "code",
   "execution_count": 103,
   "metadata": {},
   "outputs": [
    {
     "name": "stdout",
     "output_type": "stream",
     "text": [
      "Топ 10 лемм со стоп-словами\n",
      "('не', 852359)\n",
      "('банк', 611986)\n",
      "('карта', 334958)\n",
      "('деньги', 179741)\n",
      "('день', 173528)\n",
      "('кредит', 156147)\n",
      "('\\n', 151940)\n",
      "('который', 149035)\n",
      "('отделение', 144052)\n",
      "('счет', 142675)\n"
     ]
    }
   ],
   "source": [
    "\n",
    "\n",
    "print(f'Топ {top} лемм со стоп-словами')\n",
    "for i in cnt_clear.most_common(top):\n",
    "    print(i)\n",
    "\n"
   ]
  },
  {
   "cell_type": "code",
   "execution_count": 107,
   "metadata": {},
   "outputs": [
    {
     "name": "stderr",
     "output_type": "stream",
     "text": [
      "/home/vvs/anaconda3/lib/python3.7/site-packages/ipykernel_launcher.py:17: TqdmDeprecationWarning: This function will be removed in tqdm==5.0.0\n",
      "Please use `tqdm.notebook.tqdm` instead of `tqdm.tqdm_notebook`\n"
     ]
    },
    {
     "data": {
      "application/vnd.jupyter.widget-view+json": {
       "model_id": "4e60ee2ea27643ffa4c9541cb08eb365",
       "version_major": 2,
       "version_minor": 0
      },
      "text/plain": [
       "HBox(children=(FloatProgress(value=0.0, max=153499.0), HTML(value='')))"
      ]
     },
     "metadata": {},
     "output_type": "display_data"
    },
    {
     "name": "stdout",
     "output_type": "stream",
     "text": [
      "[]\n",
      "['я']\n",
      "\n"
     ]
    }
   ],
   "source": [
    "\n",
    "def find_s(string, stemmer):\n",
    "    list_lemmas_s = []\n",
    "    lemmas2 = stemmer.analyze(string)\n",
    "    for word_index in range(len(lemmas2)):\n",
    "        try:\n",
    "            if lemmas2[word_index]['analysis'][0]['gr'][0] == 'S':\n",
    "                list_lemmas_s.append(lemmas2[word_index]['analysis'][0]['lex'])\n",
    "        except:\n",
    "            continue\n",
    "        return list_lemmas_s\n",
    "\n",
    "\n",
    "cnt_clear_s = Counter()\n",
    "n_types_clear_s = []\n",
    "n_tokens_clear_s = []\n",
    "tokens = []\n",
    "for index, row in tqdm(train.iterrows(), total = len(train)):\n",
    "    try:\n",
    "        lemmas_s = find_s(row['text'], mystem)\n",
    "        tokens = [re_del_spec.sub(\" \", word.lower()) for word in lemmas_s]\n",
    "        cleared_tokens_s = [word for word in tokens if word not in  stop_words_russian]\n",
    "    except:\n",
    "        cleared_tokens_s = []\n",
    "        print(tokens)\n",
    "    cnt_clear_s.update(cleared_tokens_s)\n",
    "#     n_types_clear_s.append(len(cnt_clear_s))\n",
    "#     n_tokens_clear_s.append(sum(list(cnt_clear_s.values())))\n"
   ]
  },
  {
   "cell_type": "markdown",
   "metadata": {},
   "source": [
    "#### Найденные 10 самых частых существительных\n",
    "    "
   ]
  },
  {
   "cell_type": "code",
   "execution_count": 108,
   "metadata": {},
   "outputs": [
    {
     "name": "stdout",
     "output_type": "stream",
     "text": [
      "Топ 10 существительных\n",
      "('банк', 1178)\n",
      "('год', 1061)\n",
      "('г', 990)\n",
      "('декабрь', 821)\n",
      "('ситуация', 661)\n",
      "('апрель', 596)\n",
      "('клиент', 559)\n",
      "('ноябрь', 532)\n",
      "('май', 526)\n",
      "('январь', 505)\n"
     ]
    }
   ],
   "source": [
    "\n",
    "top = 10\n",
    "\n",
    "print(f'Топ {top} существительных')\n",
    "for i in cnt_clear_s.most_common(top):\n",
    "    print(i)"
   ]
  },
  {
   "cell_type": "markdown",
   "metadata": {},
   "source": [
    "##  Постройте кривые Ципфа и Хипса"
   ]
  },
  {
   "cell_type": "markdown",
   "metadata": {},
   "source": [
    "#### кривая Ципфа "
   ]
  },
  {
   "cell_type": "code",
   "execution_count": 39,
   "metadata": {},
   "outputs": [
    {
     "data": {
      "image/png": "[encoded data removed]",
      "text/plain": [
       "<Figure size 432x288 with 1 Axes>"
      ]
     },
     "metadata": {
      "needs_background": "light"
     },
     "output_type": "display_data"
    }
   ],
   "source": [
    "freqs = list(cnt.values())\n",
    "freqs = sorted(freqs, reverse = True)\n",
    "\n",
    "fig, ax = plt.subplots()\n",
    "ax.plot(freqs[:300], range(300))\n",
    "plt.show()"
   ]
  },
  {
   "cell_type": "markdown",
   "metadata": {},
   "source": [
    "#### кривая  Хипса "
   ]
  },
  {
   "cell_type": "code",
   "execution_count": 105,
   "metadata": {},
   "outputs": [
    {
     "data": {
      "image/png": "[encoded data removed]",
      "text/plain": [
       "<Figure size 432x288 with 1 Axes>"
      ]
     },
     "metadata": {
      "needs_background": "light"
     },
     "output_type": "display_data"
    }
   ],
   "source": [
    "fig, ax = plt.subplots()\n",
    "ax.plot(n_tokens, n_types)\n",
    "plt.show()"
   ]
  },
  {
   "cell_type": "markdown",
   "metadata": {},
   "source": [
    "## какое слово встречается чаще, \"сотрудник\" или \"клиент\"?"
   ]
  },
  {
   "cell_type": "code",
   "execution_count": 110,
   "metadata": {},
   "outputs": [
    {
     "data": {
      "text/plain": [
       "195"
      ]
     },
     "execution_count": 110,
     "metadata": {},
     "output_type": "execute_result"
    }
   ],
   "source": [
    "cnt_clear_s['сотрудник']"
   ]
  },
  {
   "cell_type": "code",
   "execution_count": 111,
   "metadata": {},
   "outputs": [
    {
     "data": {
      "text/plain": [
       "559"
      ]
     },
     "execution_count": 111,
     "metadata": {},
     "output_type": "execute_result"
    }
   ],
   "source": [
    "cnt_clear_s['клиент']"
   ]
  },
  {
   "cell_type": "markdown",
   "metadata": {},
   "source": [
    "####  \"клиент\" встречается чаще"
   ]
  },
  {
   "cell_type": "markdown",
   "metadata": {},
   "source": [
    "## сколько раз встречается слова \"мошенничество\" и \"доверие\"?\n"
   ]
  },
  {
   "cell_type": "code",
   "execution_count": 112,
   "metadata": {},
   "outputs": [
    {
     "data": {
      "text/plain": [
       "3"
      ]
     },
     "execution_count": 112,
     "metadata": {},
     "output_type": "execute_result"
    }
   ],
   "source": [
    "cnt_clear_s['мошенничество']"
   ]
  },
  {
   "cell_type": "code",
   "execution_count": 113,
   "metadata": {},
   "outputs": [
    {
     "data": {
      "text/plain": [
       "1"
      ]
     },
     "execution_count": 113,
     "metadata": {},
     "output_type": "execute_result"
    }
   ],
   "source": [
    "cnt_clear_s['доверие']"
   ]
  },
  {
   "cell_type": "markdown",
   "metadata": {},
   "source": [
    "####  \"мошенничество\" встречается чаще"
   ]
  },
  {
   "cell_type": "code",
   "execution_count": null,
   "metadata": {},
   "outputs": [],
   "source": [
    "from IPython.display import Audio\n",
    "\n",
    "Audio(url=\"https://wav-sounds.com/wp-content/uploads/2017/10/Herbert-06.wav\",autoplay=True)"
   ]
  },
  {
   "cell_type": "code",
   "execution_count": null,
   "metadata": {},
   "outputs": [],
   "source": []
  }
 ],
 "metadata": {
  "kernelspec": {
   "display_name": "Python 3",
   "language": "python",
   "name": "python3"
  },
  "language_info": {
   "codemirror_mode": {
    "name": "ipython",
    "version": 3
   },
   "file_extension": ".py",
   "mimetype": "text/x-python",
   "name": "python",
   "nbconvert_exporter": "python",
   "pygments_lexer": "ipython3",
   "version": "3.7.3"
  }
 },
 "nbformat": 4,
 "nbformat_minor": 2
}
